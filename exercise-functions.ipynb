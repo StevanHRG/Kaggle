{
 "cells": [
  {
   "cell_type": "markdown",
   "id": "befa621e",
   "metadata": {
    "papermill": {
     "duration": 0.006283,
     "end_time": "2023-11-14T01:42:43.861437",
     "exception": false,
     "start_time": "2023-11-14T01:42:43.855154",
     "status": "completed"
    },
    "tags": []
   },
   "source": [
    "**This notebook is an exercise in the [Python](https://www.kaggle.com/learn/python) course.  You can reference the tutorial at [this link](https://www.kaggle.com/colinmorris/functions-and-getting-help).**\n",
    "\n",
    "---\n"
   ]
  },
  {
   "cell_type": "markdown",
   "id": "728fe7fb",
   "metadata": {
    "papermill": {
     "duration": 0.00537,
     "end_time": "2023-11-14T01:42:43.872703",
     "exception": false,
     "start_time": "2023-11-14T01:42:43.867333",
     "status": "completed"
    },
    "tags": []
   },
   "source": [
    "Functions are powerful. Try writing some yourself.\n",
    "\n",
    "As before, don't forget to run the setup code below before jumping into question 1."
   ]
  },
  {
   "cell_type": "code",
   "execution_count": 1,
   "id": "3a351ab8",
   "metadata": {
    "_kg_hide-input": true,
    "_kg_hide-output": true,
    "execution": {
     "iopub.execute_input": "2023-11-14T01:42:43.886669Z",
     "iopub.status.busy": "2023-11-14T01:42:43.886297Z",
     "iopub.status.idle": "2023-11-14T01:42:44.333140Z",
     "shell.execute_reply": "2023-11-14T01:42:44.331862Z"
    },
    "papermill": {
     "duration": 0.456777,
     "end_time": "2023-11-14T01:42:44.335578",
     "exception": false,
     "start_time": "2023-11-14T01:42:43.878801",
     "status": "completed"
    },
    "tags": []
   },
   "outputs": [
    {
     "name": "stdout",
     "output_type": "stream",
     "text": [
      "Setup complete.\n"
     ]
    }
   ],
   "source": [
    "# SETUP. You don't need to worry for now about what this code does or how it works.\n",
    "from learntools.core import binder; binder.bind(globals())\n",
    "from learntools.python.ex2 import *\n",
    "print('Setup complete.')"
   ]
  },
  {
   "cell_type": "markdown",
   "id": "3033c4cf",
   "metadata": {
    "papermill": {
     "duration": 0.005567,
     "end_time": "2023-11-14T01:42:44.347202",
     "exception": false,
     "start_time": "2023-11-14T01:42:44.341635",
     "status": "completed"
    },
    "tags": []
   },
   "source": [
    "# 1.\n",
    "\n",
    "Complete the body of the following function according to its docstring.\n",
    "\n",
    "HINT: Python has a built-in function `round`."
   ]
  },
  {
   "cell_type": "code",
   "execution_count": 2,
   "id": "4c1afab8",
   "metadata": {
    "execution": {
     "iopub.execute_input": "2023-11-14T01:42:44.360576Z",
     "iopub.status.busy": "2023-11-14T01:42:44.360028Z",
     "iopub.status.idle": "2023-11-14T01:42:44.372021Z",
     "shell.execute_reply": "2023-11-14T01:42:44.370860Z"
    },
    "papermill": {
     "duration": 0.021323,
     "end_time": "2023-11-14T01:42:44.374251",
     "exception": false,
     "start_time": "2023-11-14T01:42:44.352928",
     "status": "completed"
    },
    "tags": []
   },
   "outputs": [
    {
     "data": {
      "application/javascript": [
       "parent.postMessage({\"jupyterEvent\": \"custom.exercise_interaction\", \"data\": {\"outcomeType\": 1, \"valueTowardsCompletion\": 0.16666666666666666, \"interactionType\": 1, \"questionType\": 2, \"questionId\": \"1_RoundFunctionProblem\", \"learnToolsVersion\": \"0.3.4\", \"failureMessage\": \"\", \"exceptionClass\": \"\", \"trace\": \"\"}}, \"*\")"
      ],
      "text/plain": [
       "<IPython.core.display.Javascript object>"
      ]
     },
     "metadata": {},
     "output_type": "display_data"
    },
    {
     "data": {
      "text/markdown": [
       "<span style=\"color:#33cc33\">Correct</span>"
      ],
      "text/plain": [
       "Correct"
      ]
     },
     "metadata": {},
     "output_type": "display_data"
    }
   ],
   "source": [
    "def round_to_two_places(num):\n",
    "    \"\"\"Return the given number rounded to two decimal places. \n",
    "    \n",
    "    >>> round_to_two_places(3.14159)\n",
    "    3.14\n",
    "    \"\"\"\n",
    "    round(num, ndigits = 2)\n",
    "    # (\"pass\" is a keyword that does literally nothing. We used it as a placeholder\n",
    "    # because after we begin a code block, Python requires at least one line of code)\n",
    "    #pass\n",
    "    return round(num, 2)\n",
    "# Check your answer\n",
    "q1.check()"
   ]
  },
  {
   "cell_type": "code",
   "execution_count": 3,
   "id": "5e924aad",
   "metadata": {
    "execution": {
     "iopub.execute_input": "2023-11-14T01:42:44.388331Z",
     "iopub.status.busy": "2023-11-14T01:42:44.387983Z",
     "iopub.status.idle": "2023-11-14T01:42:44.399607Z",
     "shell.execute_reply": "2023-11-14T01:42:44.398517Z"
    },
    "papermill": {
     "duration": 0.021406,
     "end_time": "2023-11-14T01:42:44.401881",
     "exception": false,
     "start_time": "2023-11-14T01:42:44.380475",
     "status": "completed"
    },
    "tags": []
   },
   "outputs": [
    {
     "data": {
      "application/javascript": [
       "parent.postMessage({\"jupyterEvent\": \"custom.exercise_interaction\", \"data\": {\"interactionType\": 2, \"questionType\": 2, \"questionId\": \"1_RoundFunctionProblem\", \"learnToolsVersion\": \"0.3.4\", \"valueTowardsCompletion\": 0.0, \"failureMessage\": \"\", \"exceptionClass\": \"\", \"trace\": \"\", \"outcomeType\": 4}}, \"*\")"
      ],
      "text/plain": [
       "<IPython.core.display.Javascript object>"
      ]
     },
     "metadata": {},
     "output_type": "display_data"
    },
    {
     "data": {
      "text/markdown": [
       "<span style=\"color:#3366cc\">Hint:</span> Run `help(round)` in the console (or in a code cell) to learn more about the round function. You'll need to use the function's optional second argument."
      ],
      "text/plain": [
       "Hint: Run `help(round)` in the console (or in a code cell) to learn more about the round function. You'll need to use the function's optional second argument."
      ]
     },
     "metadata": {},
     "output_type": "display_data"
    },
    {
     "data": {
      "application/javascript": [
       "parent.postMessage({\"jupyterEvent\": \"custom.exercise_interaction\", \"data\": {\"interactionType\": 3, \"questionType\": 2, \"questionId\": \"1_RoundFunctionProblem\", \"learnToolsVersion\": \"0.3.4\", \"valueTowardsCompletion\": 0.0, \"failureMessage\": \"\", \"exceptionClass\": \"\", \"trace\": \"\", \"outcomeType\": 4}}, \"*\")"
      ],
      "text/plain": [
       "<IPython.core.display.Javascript object>"
      ]
     },
     "metadata": {},
     "output_type": "display_data"
    },
    {
     "data": {
      "text/markdown": [
       "<span style=\"color:#33cc99\">Solution:</span> \n",
       "```python\n",
       "return round(num, 2)\n",
       "```"
      ],
      "text/plain": [
       "Solution: \n",
       "```python\n",
       "return round(num, 2)\n",
       "```"
      ]
     },
     "metadata": {},
     "output_type": "display_data"
    }
   ],
   "source": [
    "# Uncomment the following for a hint\n",
    "q1.hint()\n",
    "# Or uncomment the following to peek at the solution\n",
    "q1.solution()"
   ]
  },
  {
   "cell_type": "markdown",
   "id": "c18f055d",
   "metadata": {
    "papermill": {
     "duration": 0.006598,
     "end_time": "2023-11-14T01:42:44.415196",
     "exception": false,
     "start_time": "2023-11-14T01:42:44.408598",
     "status": "completed"
    },
    "tags": []
   },
   "source": [
    "# 2.\n",
    "The help for `round` says that `ndigits` (the second argument) may be negative.\n",
    "What do you think will happen when it is? Try some examples in the following cell."
   ]
  },
  {
   "cell_type": "code",
   "execution_count": 4,
   "id": "8fe8230a",
   "metadata": {
    "execution": {
     "iopub.execute_input": "2023-11-14T01:42:44.430602Z",
     "iopub.status.busy": "2023-11-14T01:42:44.430184Z",
     "iopub.status.idle": "2023-11-14T01:42:44.437202Z",
     "shell.execute_reply": "2023-11-14T01:42:44.436103Z"
    },
    "papermill": {
     "duration": 0.017326,
     "end_time": "2023-11-14T01:42:44.439315",
     "exception": false,
     "start_time": "2023-11-14T01:42:44.421989",
     "status": "completed"
    },
    "tags": []
   },
   "outputs": [
    {
     "data": {
      "text/plain": [
       "315.03"
      ]
     },
     "execution_count": 4,
     "metadata": {},
     "output_type": "execute_result"
    }
   ],
   "source": [
    "round(315.0256,2)"
   ]
  },
  {
   "cell_type": "markdown",
   "id": "5e0b3c64",
   "metadata": {
    "papermill": {
     "duration": 0.006698,
     "end_time": "2023-11-14T01:42:44.453130",
     "exception": false,
     "start_time": "2023-11-14T01:42:44.446432",
     "status": "completed"
    },
    "tags": []
   },
   "source": [
    "Can you think of a case where this would be useful?  Once you're ready, run the code cell below to see the answer and to receive credit for completing the problem."
   ]
  },
  {
   "cell_type": "code",
   "execution_count": 5,
   "id": "9a14066a",
   "metadata": {
    "execution": {
     "iopub.execute_input": "2023-11-14T01:42:44.468760Z",
     "iopub.status.busy": "2023-11-14T01:42:44.468354Z",
     "iopub.status.idle": "2023-11-14T01:42:44.477286Z",
     "shell.execute_reply": "2023-11-14T01:42:44.476172Z"
    },
    "papermill": {
     "duration": 0.019604,
     "end_time": "2023-11-14T01:42:44.479576",
     "exception": false,
     "start_time": "2023-11-14T01:42:44.459972",
     "status": "completed"
    },
    "tags": []
   },
   "outputs": [
    {
     "data": {
      "application/javascript": [
       "parent.postMessage({\"jupyterEvent\": \"custom.exercise_interaction\", \"data\": {\"interactionType\": 3, \"questionType\": 4, \"questionId\": \"2_RoundNdigitsProblem\", \"learnToolsVersion\": \"0.3.4\", \"valueTowardsCompletion\": 0.0, \"failureMessage\": \"\", \"exceptionClass\": \"\", \"trace\": \"\", \"outcomeType\": 4}}, \"*\")"
      ],
      "text/plain": [
       "<IPython.core.display.Javascript object>"
      ]
     },
     "metadata": {},
     "output_type": "display_data"
    },
    {
     "data": {
      "text/markdown": [
       "<span style=\"color:#33cc99\">Solution:</span> As you've seen, `ndigits=-1` rounds to the nearest 10, `ndigits=-2` rounds to the nearest 100 and so on. Where might this be useful? Suppose we're dealing with large numbers:\n",
       "\n",
       "> The area of Finland is 338,424 km²  \n",
       "> The area of Greenland is 2,166,086 km²\n",
       "\n",
       "We probably don't care whether it's really 338,424, or 338,425, or 338,177. All those digits of accuracy are just distracting. We can chop them off by calling `round()` with `ndigits=-3`:\n",
       "\n",
       "> The area of Finland is 338,000 km²  \n",
       "> The area of Greenland is 2,166,000 km²\n",
       "\n",
       "(We'll talk about how we would get the commas later when we talk about string formatting :))\n"
      ],
      "text/plain": [
       "Solution: As you've seen, `ndigits=-1` rounds to the nearest 10, `ndigits=-2` rounds to the nearest 100 and so on. Where might this be useful? Suppose we're dealing with large numbers:\n",
       "\n",
       "> The area of Finland is 338,424 km²  \n",
       "> The area of Greenland is 2,166,086 km²\n",
       "\n",
       "We probably don't care whether it's really 338,424, or 338,425, or 338,177. All those digits of accuracy are just distracting. We can chop them off by calling `round()` with `ndigits=-3`:\n",
       "\n",
       "> The area of Finland is 338,000 km²  \n",
       "> The area of Greenland is 2,166,000 km²\n",
       "\n",
       "(We'll talk about how we would get the commas later when we talk about string formatting :))"
      ]
     },
     "metadata": {},
     "output_type": "display_data"
    }
   ],
   "source": [
    "# Check your answer (Run this code cell to receive credit!)\n",
    "q2.solution()"
   ]
  },
  {
   "cell_type": "markdown",
   "id": "ef012c53",
   "metadata": {
    "papermill": {
     "duration": 0.007162,
     "end_time": "2023-11-14T01:42:44.494320",
     "exception": false,
     "start_time": "2023-11-14T01:42:44.487158",
     "status": "completed"
    },
    "tags": []
   },
   "source": [
    "# 3.\n",
    "\n",
    "In the previous exercise, the candy-sharing friends Alice, Bob and Carol tried to split candies evenly. For the sake of their friendship, any candies left over would be smashed. For example, if they collectively bring home 91 candies, they'll take 30 each and smash 1.\n",
    "\n",
    "Below is a simple function that will calculate the number of candies to smash for *any* number of total candies.\n",
    "\n",
    "Modify it so that it optionally takes a second argument representing the number of friends the candies are being split between. If no second argument is provided, it should assume 3 friends, as before.\n",
    "\n",
    "Update the docstring to reflect this new behaviour."
   ]
  },
  {
   "cell_type": "code",
   "execution_count": 6,
   "id": "8c399577",
   "metadata": {
    "execution": {
     "iopub.execute_input": "2023-11-14T01:42:44.510834Z",
     "iopub.status.busy": "2023-11-14T01:42:44.510412Z",
     "iopub.status.idle": "2023-11-14T01:42:44.520285Z",
     "shell.execute_reply": "2023-11-14T01:42:44.519109Z"
    },
    "papermill": {
     "duration": 0.020772,
     "end_time": "2023-11-14T01:42:44.522495",
     "exception": false,
     "start_time": "2023-11-14T01:42:44.501723",
     "status": "completed"
    },
    "tags": []
   },
   "outputs": [
    {
     "data": {
      "application/javascript": [
       "parent.postMessage({\"jupyterEvent\": \"custom.exercise_interaction\", \"data\": {\"outcomeType\": 2, \"failureMessage\": \"`to_smash` should be callable with two arguments (e.g. `to_smash(10, 2)`\", \"interactionType\": 1, \"questionType\": 2, \"questionId\": \"3_CandySmashingFunctionProblem\", \"learnToolsVersion\": \"0.3.4\", \"valueTowardsCompletion\": 0.0, \"exceptionClass\": \"\", \"trace\": \"\"}}, \"*\")"
      ],
      "text/plain": [
       "<IPython.core.display.Javascript object>"
      ]
     },
     "metadata": {},
     "output_type": "display_data"
    },
    {
     "data": {
      "text/markdown": [
       "<span style=\"color:#cc3333\">Incorrect:</span> `to_smash` should be callable with two arguments (e.g. `to_smash(10, 2)`"
      ],
      "text/plain": [
       "Incorrect: `to_smash` should be callable with two arguments (e.g. `to_smash(10, 2)`"
      ]
     },
     "metadata": {},
     "output_type": "display_data"
    }
   ],
   "source": [
    "def to_smash(total_candies):\n",
    "    \"\"\"Return the number of leftover candies that must be smashed after distributing\n",
    "    the given number of candies evenly between 3 friends.\n",
    "    \n",
    "    >>> to_smash(91)\n",
    "    1\n",
    "    \"\"\"\n",
    "    return total_candies % 3\n",
    "\n",
    "# Check your answer\n",
    "q3.check()"
   ]
  },
  {
   "cell_type": "code",
   "execution_count": 7,
   "id": "491b899b",
   "metadata": {
    "execution": {
     "iopub.execute_input": "2023-11-14T01:42:44.540125Z",
     "iopub.status.busy": "2023-11-14T01:42:44.539751Z",
     "iopub.status.idle": "2023-11-14T01:42:44.544344Z",
     "shell.execute_reply": "2023-11-14T01:42:44.543225Z"
    },
    "papermill": {
     "duration": 0.016136,
     "end_time": "2023-11-14T01:42:44.546554",
     "exception": false,
     "start_time": "2023-11-14T01:42:44.530418",
     "status": "completed"
    },
    "tags": []
   },
   "outputs": [],
   "source": [
    "#q3.hint()"
   ]
  },
  {
   "cell_type": "code",
   "execution_count": 8,
   "id": "07e966f3",
   "metadata": {
    "execution": {
     "iopub.execute_input": "2023-11-14T01:42:44.564588Z",
     "iopub.status.busy": "2023-11-14T01:42:44.564255Z",
     "iopub.status.idle": "2023-11-14T01:42:44.568487Z",
     "shell.execute_reply": "2023-11-14T01:42:44.567473Z"
    },
    "papermill": {
     "duration": 0.016049,
     "end_time": "2023-11-14T01:42:44.570777",
     "exception": false,
     "start_time": "2023-11-14T01:42:44.554728",
     "status": "completed"
    },
    "tags": []
   },
   "outputs": [],
   "source": [
    "#q3.solution()"
   ]
  },
  {
   "cell_type": "markdown",
   "id": "388632ea",
   "metadata": {
    "papermill": {
     "duration": 0.007664,
     "end_time": "2023-11-14T01:42:44.586449",
     "exception": false,
     "start_time": "2023-11-14T01:42:44.578785",
     "status": "completed"
    },
    "tags": []
   },
   "source": [
    "# 4. (Optional)\n",
    "\n",
    "It may not be fun, but reading and understanding error messages will be an important part of your Python career.\n",
    "\n",
    "Each code cell below contains some commented buggy code. For each cell...\n",
    "\n",
    "1. Read the code and predict what you think will happen when it's run.\n",
    "2. Then uncomment the code and run it to see what happens. (**Tip**: In the kernel editor, you can highlight several lines and press `ctrl`+`/` to toggle commenting.)\n",
    "3. Fix the code (so that it accomplishes its intended purpose without throwing an exception)\n",
    "\n",
    "<!-- TODO: should this be autochecked? Delta is probably pretty small. -->"
   ]
  },
  {
   "cell_type": "code",
   "execution_count": 9,
   "id": "3537a8c8",
   "metadata": {
    "execution": {
     "iopub.execute_input": "2023-11-14T01:42:44.604202Z",
     "iopub.status.busy": "2023-11-14T01:42:44.603781Z",
     "iopub.status.idle": "2023-11-14T01:42:44.608259Z",
     "shell.execute_reply": "2023-11-14T01:42:44.607050Z"
    },
    "papermill": {
     "duration": 0.016439,
     "end_time": "2023-11-14T01:42:44.610662",
     "exception": false,
     "start_time": "2023-11-14T01:42:44.594223",
     "status": "completed"
    },
    "tags": []
   },
   "outputs": [],
   "source": [
    "# ruound_to_two_places(9.9999)"
   ]
  },
  {
   "cell_type": "code",
   "execution_count": 10,
   "id": "2821bc41",
   "metadata": {
    "execution": {
     "iopub.execute_input": "2023-11-14T01:42:44.628738Z",
     "iopub.status.busy": "2023-11-14T01:42:44.627937Z",
     "iopub.status.idle": "2023-11-14T01:42:44.632176Z",
     "shell.execute_reply": "2023-11-14T01:42:44.631323Z"
    },
    "papermill": {
     "duration": 0.015611,
     "end_time": "2023-11-14T01:42:44.634262",
     "exception": false,
     "start_time": "2023-11-14T01:42:44.618651",
     "status": "completed"
    },
    "tags": []
   },
   "outputs": [],
   "source": [
    "# x = -10\n",
    "# y = 5\n",
    "# # Which of the two variables above has the smallest absolute value?\n",
    "# smallest_abs = min(abs(x, y))"
   ]
  },
  {
   "cell_type": "code",
   "execution_count": 11,
   "id": "4d095c56",
   "metadata": {
    "execution": {
     "iopub.execute_input": "2023-11-14T01:42:44.652070Z",
     "iopub.status.busy": "2023-11-14T01:42:44.651706Z",
     "iopub.status.idle": "2023-11-14T01:42:44.656382Z",
     "shell.execute_reply": "2023-11-14T01:42:44.655352Z"
    },
    "papermill": {
     "duration": 0.016483,
     "end_time": "2023-11-14T01:42:44.658900",
     "exception": false,
     "start_time": "2023-11-14T01:42:44.642417",
     "status": "completed"
    },
    "tags": []
   },
   "outputs": [],
   "source": [
    "# def f(x):\n",
    "#     y = abs(x)\n",
    "# return y\n",
    "\n",
    "# print(f(5))"
   ]
  },
  {
   "cell_type": "markdown",
   "id": "47cc7186",
   "metadata": {
    "papermill": {
     "duration": 0.007895,
     "end_time": "2023-11-14T01:42:44.675141",
     "exception": false,
     "start_time": "2023-11-14T01:42:44.667246",
     "status": "completed"
    },
    "tags": []
   },
   "source": [
    "# Keep Going\n",
    "\n",
    "Nice job with the code. Next up, you'll learn about *conditionals*, which you'll need to **[write interesting programs](https://www.kaggle.com/colinmorris/booleans-and-conditionals)**. "
   ]
  },
  {
   "cell_type": "markdown",
   "id": "a141a623",
   "metadata": {
    "papermill": {
     "duration": 0.007864,
     "end_time": "2023-11-14T01:42:44.691057",
     "exception": false,
     "start_time": "2023-11-14T01:42:44.683193",
     "status": "completed"
    },
    "tags": []
   },
   "source": [
    "---\n",
    "\n",
    "\n",
    "\n",
    "\n",
    "*Have questions or comments? Visit the [course discussion forum](https://www.kaggle.com/learn/python/discussion) to chat with other learners.*"
   ]
  }
 ],
 "metadata": {
  "kernelspec": {
   "display_name": "Python 3",
   "language": "python",
   "name": "python3"
  },
  "language_info": {
   "codemirror_mode": {
    "name": "ipython",
    "version": 3
   },
   "file_extension": ".py",
   "mimetype": "text/x-python",
   "name": "python",
   "nbconvert_exporter": "python",
   "pygments_lexer": "ipython3",
   "version": "3.10.12"
  },
  "papermill": {
   "default_parameters": {},
   "duration": 4.680268,
   "end_time": "2023-11-14T01:42:45.118875",
   "environment_variables": {},
   "exception": null,
   "input_path": "__notebook__.ipynb",
   "output_path": "__notebook__.ipynb",
   "parameters": {},
   "start_time": "2023-11-14T01:42:40.438607",
   "version": "2.4.0"
  }
 },
 "nbformat": 4,
 "nbformat_minor": 5
}
