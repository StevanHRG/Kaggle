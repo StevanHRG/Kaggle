{
 "cells": [
  {
   "cell_type": "markdown",
   "id": "0cb48655",
   "metadata": {
    "papermill": {
     "duration": 0.004996,
     "end_time": "2023-11-14T01:57:25.741698",
     "exception": false,
     "start_time": "2023-11-14T01:57:25.736702",
     "status": "completed"
    },
    "tags": []
   },
   "source": [
    "**This notebook is an exercise in the [Python](https://www.kaggle.com/learn/python) course.  You can reference the tutorial at [this link](https://www.kaggle.com/colinmorris/functions-and-getting-help).**\n",
    "\n",
    "---\n"
   ]
  },
  {
   "cell_type": "markdown",
   "id": "9a924552",
   "metadata": {
    "papermill": {
     "duration": 0.00386,
     "end_time": "2023-11-14T01:57:25.749904",
     "exception": false,
     "start_time": "2023-11-14T01:57:25.746044",
     "status": "completed"
    },
    "tags": []
   },
   "source": [
    "Functions are powerful. Try writing some yourself.\n",
    "\n",
    "As before, don't forget to run the setup code below before jumping into question 1."
   ]
  },
  {
   "cell_type": "code",
   "execution_count": 1,
   "id": "c9a6506a",
   "metadata": {
    "_kg_hide-input": true,
    "_kg_hide-output": true,
    "execution": {
     "iopub.execute_input": "2023-11-14T01:57:25.759809Z",
     "iopub.status.busy": "2023-11-14T01:57:25.759337Z",
     "iopub.status.idle": "2023-11-14T01:57:26.145807Z",
     "shell.execute_reply": "2023-11-14T01:57:26.144820Z"
    },
    "papermill": {
     "duration": 0.394303,
     "end_time": "2023-11-14T01:57:26.148149",
     "exception": false,
     "start_time": "2023-11-14T01:57:25.753846",
     "status": "completed"
    },
    "tags": []
   },
   "outputs": [
    {
     "name": "stdout",
     "output_type": "stream",
     "text": [
      "Setup complete.\n"
     ]
    }
   ],
   "source": [
    "# SETUP. You don't need to worry for now about what this code does or how it works.\n",
    "from learntools.core import binder; binder.bind(globals())\n",
    "from learntools.python.ex2 import *\n",
    "print('Setup complete.')"
   ]
  },
  {
   "cell_type": "markdown",
   "id": "c653a2f7",
   "metadata": {
    "papermill": {
     "duration": 0.004485,
     "end_time": "2023-11-14T01:57:26.157520",
     "exception": false,
     "start_time": "2023-11-14T01:57:26.153035",
     "status": "completed"
    },
    "tags": []
   },
   "source": [
    "# 1.\n",
    "\n",
    "Complete the body of the following function according to its docstring.\n",
    "\n",
    "HINT: Python has a built-in function `round`."
   ]
  },
  {
   "cell_type": "code",
   "execution_count": 2,
   "id": "f7e51987",
   "metadata": {
    "execution": {
     "iopub.execute_input": "2023-11-14T01:57:26.169605Z",
     "iopub.status.busy": "2023-11-14T01:57:26.168309Z",
     "iopub.status.idle": "2023-11-14T01:57:26.178661Z",
     "shell.execute_reply": "2023-11-14T01:57:26.177766Z"
    },
    "papermill": {
     "duration": 0.018363,
     "end_time": "2023-11-14T01:57:26.180463",
     "exception": false,
     "start_time": "2023-11-14T01:57:26.162100",
     "status": "completed"
    },
    "tags": []
   },
   "outputs": [
    {
     "data": {
      "application/javascript": [
       "parent.postMessage({\"jupyterEvent\": \"custom.exercise_interaction\", \"data\": {\"outcomeType\": 1, \"valueTowardsCompletion\": 0.16666666666666666, \"interactionType\": 1, \"questionType\": 2, \"questionId\": \"1_RoundFunctionProblem\", \"learnToolsVersion\": \"0.3.4\", \"failureMessage\": \"\", \"exceptionClass\": \"\", \"trace\": \"\"}}, \"*\")"
      ],
      "text/plain": [
       "<IPython.core.display.Javascript object>"
      ]
     },
     "metadata": {},
     "output_type": "display_data"
    },
    {
     "data": {
      "text/markdown": [
       "<span style=\"color:#33cc33\">Correct</span>"
      ],
      "text/plain": [
       "Correct"
      ]
     },
     "metadata": {},
     "output_type": "display_data"
    }
   ],
   "source": [
    "def round_to_two_places(num):\n",
    "    \"\"\"Return the given number rounded to two decimal places. \n",
    "    \n",
    "    >>> round_to_two_places(3.14159)\n",
    "    3.14\n",
    "    \"\"\"\n",
    "    round(num, ndigits = 2)\n",
    "    # (\"pass\" is a keyword that does literally nothing. We used it as a placeholder\n",
    "    # because after we begin a code block, Python requires at least one line of code)\n",
    "    #pass\n",
    "    return round(num, 2)\n",
    "# Check your answer\n",
    "q1.check()"
   ]
  },
  {
   "cell_type": "code",
   "execution_count": 3,
   "id": "545c6e5f",
   "metadata": {
    "execution": {
     "iopub.execute_input": "2023-11-14T01:57:26.191536Z",
     "iopub.status.busy": "2023-11-14T01:57:26.191159Z",
     "iopub.status.idle": "2023-11-14T01:57:26.202187Z",
     "shell.execute_reply": "2023-11-14T01:57:26.201478Z"
    },
    "papermill": {
     "duration": 0.018938,
     "end_time": "2023-11-14T01:57:26.204063",
     "exception": false,
     "start_time": "2023-11-14T01:57:26.185125",
     "status": "completed"
    },
    "tags": []
   },
   "outputs": [
    {
     "data": {
      "application/javascript": [
       "parent.postMessage({\"jupyterEvent\": \"custom.exercise_interaction\", \"data\": {\"interactionType\": 2, \"questionType\": 2, \"questionId\": \"1_RoundFunctionProblem\", \"learnToolsVersion\": \"0.3.4\", \"valueTowardsCompletion\": 0.0, \"failureMessage\": \"\", \"exceptionClass\": \"\", \"trace\": \"\", \"outcomeType\": 4}}, \"*\")"
      ],
      "text/plain": [
       "<IPython.core.display.Javascript object>"
      ]
     },
     "metadata": {},
     "output_type": "display_data"
    },
    {
     "data": {
      "text/markdown": [
       "<span style=\"color:#3366cc\">Hint:</span> Run `help(round)` in the console (or in a code cell) to learn more about the round function. You'll need to use the function's optional second argument."
      ],
      "text/plain": [
       "Hint: Run `help(round)` in the console (or in a code cell) to learn more about the round function. You'll need to use the function's optional second argument."
      ]
     },
     "metadata": {},
     "output_type": "display_data"
    },
    {
     "data": {
      "application/javascript": [
       "parent.postMessage({\"jupyterEvent\": \"custom.exercise_interaction\", \"data\": {\"interactionType\": 3, \"questionType\": 2, \"questionId\": \"1_RoundFunctionProblem\", \"learnToolsVersion\": \"0.3.4\", \"valueTowardsCompletion\": 0.0, \"failureMessage\": \"\", \"exceptionClass\": \"\", \"trace\": \"\", \"outcomeType\": 4}}, \"*\")"
      ],
      "text/plain": [
       "<IPython.core.display.Javascript object>"
      ]
     },
     "metadata": {},
     "output_type": "display_data"
    },
    {
     "data": {
      "text/markdown": [
       "<span style=\"color:#33cc99\">Solution:</span> \n",
       "```python\n",
       "return round(num, 2)\n",
       "```"
      ],
      "text/plain": [
       "Solution: \n",
       "```python\n",
       "return round(num, 2)\n",
       "```"
      ]
     },
     "metadata": {},
     "output_type": "display_data"
    }
   ],
   "source": [
    "# Uncomment the following for a hint\n",
    "q1.hint()\n",
    "# Or uncomment the following to peek at the solution\n",
    "q1.solution()"
   ]
  },
  {
   "cell_type": "markdown",
   "id": "01b1adf9",
   "metadata": {
    "papermill": {
     "duration": 0.004724,
     "end_time": "2023-11-14T01:57:26.214035",
     "exception": false,
     "start_time": "2023-11-14T01:57:26.209311",
     "status": "completed"
    },
    "tags": []
   },
   "source": [
    "# 2.\n",
    "The help for `round` says that `ndigits` (the second argument) may be negative.\n",
    "What do you think will happen when it is? Try some examples in the following cell."
   ]
  },
  {
   "cell_type": "code",
   "execution_count": 4,
   "id": "89653acc",
   "metadata": {
    "execution": {
     "iopub.execute_input": "2023-11-14T01:57:26.226759Z",
     "iopub.status.busy": "2023-11-14T01:57:26.226066Z",
     "iopub.status.idle": "2023-11-14T01:57:26.234158Z",
     "shell.execute_reply": "2023-11-14T01:57:26.233118Z"
    },
    "papermill": {
     "duration": 0.016944,
     "end_time": "2023-11-14T01:57:26.236007",
     "exception": false,
     "start_time": "2023-11-14T01:57:26.219063",
     "status": "completed"
    },
    "tags": []
   },
   "outputs": [
    {
     "data": {
      "text/plain": [
       "315.03"
      ]
     },
     "execution_count": 4,
     "metadata": {},
     "output_type": "execute_result"
    }
   ],
   "source": [
    "round(315.0256,2)"
   ]
  },
  {
   "cell_type": "markdown",
   "id": "efc1e903",
   "metadata": {
    "papermill": {
     "duration": 0.004986,
     "end_time": "2023-11-14T01:57:26.246319",
     "exception": false,
     "start_time": "2023-11-14T01:57:26.241333",
     "status": "completed"
    },
    "tags": []
   },
   "source": [
    "Can you think of a case where this would be useful?  Once you're ready, run the code cell below to see the answer and to receive credit for completing the problem."
   ]
  },
  {
   "cell_type": "code",
   "execution_count": 5,
   "id": "342fbca2",
   "metadata": {
    "execution": {
     "iopub.execute_input": "2023-11-14T01:57:26.259471Z",
     "iopub.status.busy": "2023-11-14T01:57:26.258866Z",
     "iopub.status.idle": "2023-11-14T01:57:26.266411Z",
     "shell.execute_reply": "2023-11-14T01:57:26.265518Z"
    },
    "papermill": {
     "duration": 0.016432,
     "end_time": "2023-11-14T01:57:26.268374",
     "exception": false,
     "start_time": "2023-11-14T01:57:26.251942",
     "status": "completed"
    },
    "tags": []
   },
   "outputs": [
    {
     "data": {
      "application/javascript": [
       "parent.postMessage({\"jupyterEvent\": \"custom.exercise_interaction\", \"data\": {\"interactionType\": 3, \"questionType\": 4, \"questionId\": \"2_RoundNdigitsProblem\", \"learnToolsVersion\": \"0.3.4\", \"valueTowardsCompletion\": 0.0, \"failureMessage\": \"\", \"exceptionClass\": \"\", \"trace\": \"\", \"outcomeType\": 4}}, \"*\")"
      ],
      "text/plain": [
       "<IPython.core.display.Javascript object>"
      ]
     },
     "metadata": {},
     "output_type": "display_data"
    },
    {
     "data": {
      "text/markdown": [
       "<span style=\"color:#33cc99\">Solution:</span> As you've seen, `ndigits=-1` rounds to the nearest 10, `ndigits=-2` rounds to the nearest 100 and so on. Where might this be useful? Suppose we're dealing with large numbers:\n",
       "\n",
       "> The area of Finland is 338,424 km²  \n",
       "> The area of Greenland is 2,166,086 km²\n",
       "\n",
       "We probably don't care whether it's really 338,424, or 338,425, or 338,177. All those digits of accuracy are just distracting. We can chop them off by calling `round()` with `ndigits=-3`:\n",
       "\n",
       "> The area of Finland is 338,000 km²  \n",
       "> The area of Greenland is 2,166,000 km²\n",
       "\n",
       "(We'll talk about how we would get the commas later when we talk about string formatting :))\n"
      ],
      "text/plain": [
       "Solution: As you've seen, `ndigits=-1` rounds to the nearest 10, `ndigits=-2` rounds to the nearest 100 and so on. Where might this be useful? Suppose we're dealing with large numbers:\n",
       "\n",
       "> The area of Finland is 338,424 km²  \n",
       "> The area of Greenland is 2,166,086 km²\n",
       "\n",
       "We probably don't care whether it's really 338,424, or 338,425, or 338,177. All those digits of accuracy are just distracting. We can chop them off by calling `round()` with `ndigits=-3`:\n",
       "\n",
       "> The area of Finland is 338,000 km²  \n",
       "> The area of Greenland is 2,166,000 km²\n",
       "\n",
       "(We'll talk about how we would get the commas later when we talk about string formatting :))"
      ]
     },
     "metadata": {},
     "output_type": "display_data"
    }
   ],
   "source": [
    "# Check your answer (Run this code cell to receive credit!)\n",
    "q2.solution()"
   ]
  },
  {
   "cell_type": "markdown",
   "id": "9a5b3e78",
   "metadata": {
    "papermill": {
     "duration": 0.005465,
     "end_time": "2023-11-14T01:57:26.279620",
     "exception": false,
     "start_time": "2023-11-14T01:57:26.274155",
     "status": "completed"
    },
    "tags": []
   },
   "source": [
    "# 3.\n",
    "\n",
    "In the previous exercise, the candy-sharing friends Alice, Bob and Carol tried to split candies evenly. For the sake of their friendship, any candies left over would be smashed. For example, if they collectively bring home 91 candies, they'll take 30 each and smash 1.\n",
    "\n",
    "Below is a simple function that will calculate the number of candies to smash for *any* number of total candies.\n",
    "\n",
    "Modify it so that it optionally takes a second argument representing the number of friends the candies are being split between. If no second argument is provided, it should assume 3 friends, as before.\n",
    "\n",
    "Update the docstring to reflect this new behaviour."
   ]
  },
  {
   "cell_type": "code",
   "execution_count": 6,
   "id": "88c62f95",
   "metadata": {
    "execution": {
     "iopub.execute_input": "2023-11-14T01:57:26.294224Z",
     "iopub.status.busy": "2023-11-14T01:57:26.293630Z",
     "iopub.status.idle": "2023-11-14T01:57:26.301221Z",
     "shell.execute_reply": "2023-11-14T01:57:26.300416Z"
    },
    "papermill": {
     "duration": 0.016609,
     "end_time": "2023-11-14T01:57:26.302845",
     "exception": false,
     "start_time": "2023-11-14T01:57:26.286236",
     "status": "completed"
    },
    "tags": []
   },
   "outputs": [
    {
     "data": {
      "application/javascript": [
       "parent.postMessage({\"jupyterEvent\": \"custom.exercise_interaction\", \"data\": {\"outcomeType\": 1, \"valueTowardsCompletion\": 0.16666666666666666, \"interactionType\": 1, \"questionType\": 2, \"questionId\": \"3_CandySmashingFunctionProblem\", \"learnToolsVersion\": \"0.3.4\", \"failureMessage\": \"\", \"exceptionClass\": \"\", \"trace\": \"\"}}, \"*\")"
      ],
      "text/plain": [
       "<IPython.core.display.Javascript object>"
      ]
     },
     "metadata": {},
     "output_type": "display_data"
    },
    {
     "data": {
      "text/markdown": [
       "<span style=\"color:#33cc33\">Correct</span>"
      ],
      "text/plain": [
       "Correct"
      ]
     },
     "metadata": {},
     "output_type": "display_data"
    }
   ],
   "source": [
    "def to_smash(total_candies, n_friends=3):\n",
    "    \"\"\"Return the number of leftover candies that must be smashed after distributing\n",
    "    the given number of candies evenly between 3 friends.\n",
    "    \n",
    "    >>> to_smash(91)\n",
    "    1\n",
    "    \"\"\"\n",
    "    return total_candies % n_friends\n",
    "\n",
    "# Check your answer\n",
    "q3.check()"
   ]
  },
  {
   "cell_type": "code",
   "execution_count": 7,
   "id": "81294f25",
   "metadata": {
    "execution": {
     "iopub.execute_input": "2023-11-14T01:57:26.315527Z",
     "iopub.status.busy": "2023-11-14T01:57:26.315139Z",
     "iopub.status.idle": "2023-11-14T01:57:26.321672Z",
     "shell.execute_reply": "2023-11-14T01:57:26.321046Z"
    },
    "papermill": {
     "duration": 0.015762,
     "end_time": "2023-11-14T01:57:26.324084",
     "exception": false,
     "start_time": "2023-11-14T01:57:26.308322",
     "status": "completed"
    },
    "tags": []
   },
   "outputs": [
    {
     "data": {
      "application/javascript": [
       "parent.postMessage({\"jupyterEvent\": \"custom.exercise_interaction\", \"data\": {\"interactionType\": 2, \"questionType\": 2, \"questionId\": \"3_CandySmashingFunctionProblem\", \"learnToolsVersion\": \"0.3.4\", \"valueTowardsCompletion\": 0.0, \"failureMessage\": \"\", \"exceptionClass\": \"\", \"trace\": \"\", \"outcomeType\": 4}}, \"*\")"
      ],
      "text/plain": [
       "<IPython.core.display.Javascript object>"
      ]
     },
     "metadata": {},
     "output_type": "display_data"
    },
    {
     "data": {
      "text/markdown": [
       "<span style=\"color:#3366cc\">Hint:</span> Refer to the section of the last tutorial notebook where we talked about default arguments"
      ],
      "text/plain": [
       "Hint: Refer to the section of the last tutorial notebook where we talked about default arguments"
      ]
     },
     "metadata": {},
     "output_type": "display_data"
    }
   ],
   "source": [
    "q3.hint()"
   ]
  },
  {
   "cell_type": "code",
   "execution_count": 8,
   "id": "52774eaa",
   "metadata": {
    "execution": {
     "iopub.execute_input": "2023-11-14T01:57:26.338284Z",
     "iopub.status.busy": "2023-11-14T01:57:26.337583Z",
     "iopub.status.idle": "2023-11-14T01:57:26.345873Z",
     "shell.execute_reply": "2023-11-14T01:57:26.344928Z"
    },
    "papermill": {
     "duration": 0.018551,
     "end_time": "2023-11-14T01:57:26.348616",
     "exception": false,
     "start_time": "2023-11-14T01:57:26.330065",
     "status": "completed"
    },
    "tags": []
   },
   "outputs": [
    {
     "data": {
      "application/javascript": [
       "parent.postMessage({\"jupyterEvent\": \"custom.exercise_interaction\", \"data\": {\"interactionType\": 3, \"questionType\": 2, \"questionId\": \"3_CandySmashingFunctionProblem\", \"learnToolsVersion\": \"0.3.4\", \"valueTowardsCompletion\": 0.0, \"failureMessage\": \"\", \"exceptionClass\": \"\", \"trace\": \"\", \"outcomeType\": 4}}, \"*\")"
      ],
      "text/plain": [
       "<IPython.core.display.Javascript object>"
      ]
     },
     "metadata": {},
     "output_type": "display_data"
    },
    {
     "data": {
      "text/markdown": [
       "<span style=\"color:#33cc99\">Solution:</span> \n",
       "```python\n",
       "def to_smash(total_candies, n_friends=3):\n",
       "    return total_candies % n_friends\n",
       "```"
      ],
      "text/plain": [
       "Solution: \n",
       "```python\n",
       "def to_smash(total_candies, n_friends=3):\n",
       "    return total_candies % n_friends\n",
       "```"
      ]
     },
     "metadata": {},
     "output_type": "display_data"
    }
   ],
   "source": [
    "q3.solution()"
   ]
  },
  {
   "cell_type": "markdown",
   "id": "59515f3c",
   "metadata": {
    "papermill": {
     "duration": 0.005807,
     "end_time": "2023-11-14T01:57:26.361058",
     "exception": false,
     "start_time": "2023-11-14T01:57:26.355251",
     "status": "completed"
    },
    "tags": []
   },
   "source": [
    "# 4. (Optional)\n",
    "\n",
    "It may not be fun, but reading and understanding error messages will be an important part of your Python career.\n",
    "\n",
    "Each code cell below contains some commented buggy code. For each cell...\n",
    "\n",
    "1. Read the code and predict what you think will happen when it's run.\n",
    "2. Then uncomment the code and run it to see what happens. (**Tip**: In the kernel editor, you can highlight several lines and press `ctrl`+`/` to toggle commenting.)\n",
    "3. Fix the code (so that it accomplishes its intended purpose without throwing an exception)\n",
    "\n",
    "<!-- TODO: should this be autochecked? Delta is probably pretty small. -->"
   ]
  },
  {
   "cell_type": "code",
   "execution_count": 9,
   "id": "b87c0ab0",
   "metadata": {
    "execution": {
     "iopub.execute_input": "2023-11-14T01:57:26.375185Z",
     "iopub.status.busy": "2023-11-14T01:57:26.374511Z",
     "iopub.status.idle": "2023-11-14T01:57:26.379582Z",
     "shell.execute_reply": "2023-11-14T01:57:26.378977Z"
    },
    "papermill": {
     "duration": 0.014265,
     "end_time": "2023-11-14T01:57:26.381279",
     "exception": false,
     "start_time": "2023-11-14T01:57:26.367014",
     "status": "completed"
    },
    "tags": []
   },
   "outputs": [
    {
     "data": {
      "text/plain": [
       "10.0"
      ]
     },
     "execution_count": 9,
     "metadata": {},
     "output_type": "execute_result"
    }
   ],
   "source": [
    "round(9.9999, 2)"
   ]
  },
  {
   "cell_type": "code",
   "execution_count": 10,
   "id": "bc562146",
   "metadata": {
    "execution": {
     "iopub.execute_input": "2023-11-14T01:57:26.396027Z",
     "iopub.status.busy": "2023-11-14T01:57:26.395579Z",
     "iopub.status.idle": "2023-11-14T01:57:26.400322Z",
     "shell.execute_reply": "2023-11-14T01:57:26.399333Z"
    },
    "papermill": {
     "duration": 0.014543,
     "end_time": "2023-11-14T01:57:26.402137",
     "exception": false,
     "start_time": "2023-11-14T01:57:26.387594",
     "status": "completed"
    },
    "tags": []
   },
   "outputs": [],
   "source": [
    " x = -10\n",
    " y = 5\n",
    "# # Which of the two variables above has the smallest absolute value?\n",
    "smallest_abs = min(abs(x), abs(y))"
   ]
  },
  {
   "cell_type": "code",
   "execution_count": 11,
   "id": "849072f8",
   "metadata": {
    "execution": {
     "iopub.execute_input": "2023-11-14T01:57:26.416745Z",
     "iopub.status.busy": "2023-11-14T01:57:26.416246Z",
     "iopub.status.idle": "2023-11-14T01:57:26.422749Z",
     "shell.execute_reply": "2023-11-14T01:57:26.421629Z"
    },
    "papermill": {
     "duration": 0.017406,
     "end_time": "2023-11-14T01:57:26.426020",
     "exception": false,
     "start_time": "2023-11-14T01:57:26.408614",
     "status": "completed"
    },
    "tags": []
   },
   "outputs": [
    {
     "name": "stdout",
     "output_type": "stream",
     "text": [
      "5\n"
     ]
    }
   ],
   "source": [
    "def f(x):\n",
    "    y = abs(x)\n",
    "    return y\n",
    "\n",
    "print(f(-5))"
   ]
  },
  {
   "cell_type": "markdown",
   "id": "82e37c48",
   "metadata": {
    "papermill": {
     "duration": 0.005923,
     "end_time": "2023-11-14T01:57:26.438952",
     "exception": false,
     "start_time": "2023-11-14T01:57:26.433029",
     "status": "completed"
    },
    "tags": []
   },
   "source": [
    "# Keep Going\n",
    "\n",
    "Nice job with the code. Next up, you'll learn about *conditionals*, which you'll need to **[write interesting programs](https://www.kaggle.com/colinmorris/booleans-and-conditionals)**. "
   ]
  },
  {
   "cell_type": "markdown",
   "id": "cb1d4d3e",
   "metadata": {
    "papermill": {
     "duration": 0.006288,
     "end_time": "2023-11-14T01:57:26.452718",
     "exception": false,
     "start_time": "2023-11-14T01:57:26.446430",
     "status": "completed"
    },
    "tags": []
   },
   "source": [
    "---\n",
    "\n",
    "\n",
    "\n",
    "\n",
    "*Have questions or comments? Visit the [course discussion forum](https://www.kaggle.com/learn/python/discussion) to chat with other learners.*"
   ]
  }
 ],
 "metadata": {
  "kernelspec": {
   "display_name": "Python 3",
   "language": "python",
   "name": "python3"
  },
  "language_info": {
   "codemirror_mode": {
    "name": "ipython",
    "version": 3
   },
   "file_extension": ".py",
   "mimetype": "text/x-python",
   "name": "python",
   "nbconvert_exporter": "python",
   "pygments_lexer": "ipython3",
   "version": "3.10.12"
  },
  "papermill": {
   "default_parameters": {},
   "duration": 3.985651,
   "end_time": "2023-11-14T01:57:26.982057",
   "environment_variables": {},
   "exception": null,
   "input_path": "__notebook__.ipynb",
   "output_path": "__notebook__.ipynb",
   "parameters": {},
   "start_time": "2023-11-14T01:57:22.996406",
   "version": "2.4.0"
  }
 },
 "nbformat": 4,
 "nbformat_minor": 5
}
