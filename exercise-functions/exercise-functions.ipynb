{
 "cells": [
  {
   "cell_type": "markdown",
   "id": "b9fe2002",
   "metadata": {
    "papermill": {
     "duration": 0.006439,
     "end_time": "2023-11-14T01:47:48.027980",
     "exception": false,
     "start_time": "2023-11-14T01:47:48.021541",
     "status": "completed"
    },
    "tags": []
   },
   "source": [
    "**This notebook is an exercise in the [Python](https://www.kaggle.com/learn/python) course.  You can reference the tutorial at [this link](https://www.kaggle.com/colinmorris/functions-and-getting-help).**\n",
    "\n",
    "---\n"
   ]
  },
  {
   "cell_type": "markdown",
   "id": "fbeb94d6",
   "metadata": {
    "papermill": {
     "duration": 0.005644,
     "end_time": "2023-11-14T01:47:48.039964",
     "exception": false,
     "start_time": "2023-11-14T01:47:48.034320",
     "status": "completed"
    },
    "tags": []
   },
   "source": [
    "Functions are powerful. Try writing some yourself.\n",
    "\n",
    "As before, don't forget to run the setup code below before jumping into question 1."
   ]
  },
  {
   "cell_type": "code",
   "execution_count": 1,
   "id": "b906d0ac",
   "metadata": {
    "_kg_hide-input": true,
    "_kg_hide-output": true,
    "execution": {
     "iopub.execute_input": "2023-11-14T01:47:48.054066Z",
     "iopub.status.busy": "2023-11-14T01:47:48.053362Z",
     "iopub.status.idle": "2023-11-14T01:47:48.508642Z",
     "shell.execute_reply": "2023-11-14T01:47:48.507542Z"
    },
    "papermill": {
     "duration": 0.465524,
     "end_time": "2023-11-14T01:47:48.511330",
     "exception": false,
     "start_time": "2023-11-14T01:47:48.045806",
     "status": "completed"
    },
    "tags": []
   },
   "outputs": [
    {
     "name": "stdout",
     "output_type": "stream",
     "text": [
      "Setup complete.\n"
     ]
    }
   ],
   "source": [
    "# SETUP. You don't need to worry for now about what this code does or how it works.\n",
    "from learntools.core import binder; binder.bind(globals())\n",
    "from learntools.python.ex2 import *\n",
    "print('Setup complete.')"
   ]
  },
  {
   "cell_type": "markdown",
   "id": "fe624ca0",
   "metadata": {
    "papermill": {
     "duration": 0.005879,
     "end_time": "2023-11-14T01:47:48.523850",
     "exception": false,
     "start_time": "2023-11-14T01:47:48.517971",
     "status": "completed"
    },
    "tags": []
   },
   "source": [
    "# 1.\n",
    "\n",
    "Complete the body of the following function according to its docstring.\n",
    "\n",
    "HINT: Python has a built-in function `round`."
   ]
  },
  {
   "cell_type": "code",
   "execution_count": 2,
   "id": "db341889",
   "metadata": {
    "execution": {
     "iopub.execute_input": "2023-11-14T01:47:48.538620Z",
     "iopub.status.busy": "2023-11-14T01:47:48.538075Z",
     "iopub.status.idle": "2023-11-14T01:47:48.548398Z",
     "shell.execute_reply": "2023-11-14T01:47:48.547552Z"
    },
    "papermill": {
     "duration": 0.020403,
     "end_time": "2023-11-14T01:47:48.550740",
     "exception": false,
     "start_time": "2023-11-14T01:47:48.530337",
     "status": "completed"
    },
    "tags": []
   },
   "outputs": [
    {
     "data": {
      "application/javascript": [
       "parent.postMessage({\"jupyterEvent\": \"custom.exercise_interaction\", \"data\": {\"outcomeType\": 1, \"valueTowardsCompletion\": 0.16666666666666666, \"interactionType\": 1, \"questionType\": 2, \"questionId\": \"1_RoundFunctionProblem\", \"learnToolsVersion\": \"0.3.4\", \"failureMessage\": \"\", \"exceptionClass\": \"\", \"trace\": \"\"}}, \"*\")"
      ],
      "text/plain": [
       "<IPython.core.display.Javascript object>"
      ]
     },
     "metadata": {},
     "output_type": "display_data"
    },
    {
     "data": {
      "text/markdown": [
       "<span style=\"color:#33cc33\">Correct</span>"
      ],
      "text/plain": [
       "Correct"
      ]
     },
     "metadata": {},
     "output_type": "display_data"
    }
   ],
   "source": [
    "def round_to_two_places(num):\n",
    "    \"\"\"Return the given number rounded to two decimal places. \n",
    "    \n",
    "    >>> round_to_two_places(3.14159)\n",
    "    3.14\n",
    "    \"\"\"\n",
    "    round(num, ndigits = 2)\n",
    "    # (\"pass\" is a keyword that does literally nothing. We used it as a placeholder\n",
    "    # because after we begin a code block, Python requires at least one line of code)\n",
    "    #pass\n",
    "    return round(num, 2)\n",
    "# Check your answer\n",
    "q1.check()"
   ]
  },
  {
   "cell_type": "code",
   "execution_count": 3,
   "id": "3d7df2e7",
   "metadata": {
    "execution": {
     "iopub.execute_input": "2023-11-14T01:47:48.567082Z",
     "iopub.status.busy": "2023-11-14T01:47:48.565928Z",
     "iopub.status.idle": "2023-11-14T01:47:48.578899Z",
     "shell.execute_reply": "2023-11-14T01:47:48.577903Z"
    },
    "papermill": {
     "duration": 0.024017,
     "end_time": "2023-11-14T01:47:48.581435",
     "exception": false,
     "start_time": "2023-11-14T01:47:48.557418",
     "status": "completed"
    },
    "tags": []
   },
   "outputs": [
    {
     "data": {
      "application/javascript": [
       "parent.postMessage({\"jupyterEvent\": \"custom.exercise_interaction\", \"data\": {\"interactionType\": 2, \"questionType\": 2, \"questionId\": \"1_RoundFunctionProblem\", \"learnToolsVersion\": \"0.3.4\", \"valueTowardsCompletion\": 0.0, \"failureMessage\": \"\", \"exceptionClass\": \"\", \"trace\": \"\", \"outcomeType\": 4}}, \"*\")"
      ],
      "text/plain": [
       "<IPython.core.display.Javascript object>"
      ]
     },
     "metadata": {},
     "output_type": "display_data"
    },
    {
     "data": {
      "text/markdown": [
       "<span style=\"color:#3366cc\">Hint:</span> Run `help(round)` in the console (or in a code cell) to learn more about the round function. You'll need to use the function's optional second argument."
      ],
      "text/plain": [
       "Hint: Run `help(round)` in the console (or in a code cell) to learn more about the round function. You'll need to use the function's optional second argument."
      ]
     },
     "metadata": {},
     "output_type": "display_data"
    },
    {
     "data": {
      "application/javascript": [
       "parent.postMessage({\"jupyterEvent\": \"custom.exercise_interaction\", \"data\": {\"interactionType\": 3, \"questionType\": 2, \"questionId\": \"1_RoundFunctionProblem\", \"learnToolsVersion\": \"0.3.4\", \"valueTowardsCompletion\": 0.0, \"failureMessage\": \"\", \"exceptionClass\": \"\", \"trace\": \"\", \"outcomeType\": 4}}, \"*\")"
      ],
      "text/plain": [
       "<IPython.core.display.Javascript object>"
      ]
     },
     "metadata": {},
     "output_type": "display_data"
    },
    {
     "data": {
      "text/markdown": [
       "<span style=\"color:#33cc99\">Solution:</span> \n",
       "```python\n",
       "return round(num, 2)\n",
       "```"
      ],
      "text/plain": [
       "Solution: \n",
       "```python\n",
       "return round(num, 2)\n",
       "```"
      ]
     },
     "metadata": {},
     "output_type": "display_data"
    }
   ],
   "source": [
    "# Uncomment the following for a hint\n",
    "q1.hint()\n",
    "# Or uncomment the following to peek at the solution\n",
    "q1.solution()"
   ]
  },
  {
   "cell_type": "markdown",
   "id": "7899e579",
   "metadata": {
    "papermill": {
     "duration": 0.006978,
     "end_time": "2023-11-14T01:47:48.595595",
     "exception": false,
     "start_time": "2023-11-14T01:47:48.588617",
     "status": "completed"
    },
    "tags": []
   },
   "source": [
    "# 2.\n",
    "The help for `round` says that `ndigits` (the second argument) may be negative.\n",
    "What do you think will happen when it is? Try some examples in the following cell."
   ]
  },
  {
   "cell_type": "code",
   "execution_count": 4,
   "id": "11aea7fc",
   "metadata": {
    "execution": {
     "iopub.execute_input": "2023-11-14T01:47:48.611806Z",
     "iopub.status.busy": "2023-11-14T01:47:48.611393Z",
     "iopub.status.idle": "2023-11-14T01:47:48.618787Z",
     "shell.execute_reply": "2023-11-14T01:47:48.617576Z"
    },
    "papermill": {
     "duration": 0.018953,
     "end_time": "2023-11-14T01:47:48.621794",
     "exception": false,
     "start_time": "2023-11-14T01:47:48.602841",
     "status": "completed"
    },
    "tags": []
   },
   "outputs": [
    {
     "data": {
      "text/plain": [
       "315.03"
      ]
     },
     "execution_count": 4,
     "metadata": {},
     "output_type": "execute_result"
    }
   ],
   "source": [
    "round(315.0256,2)"
   ]
  },
  {
   "cell_type": "markdown",
   "id": "329f8ab1",
   "metadata": {
    "papermill": {
     "duration": 0.007228,
     "end_time": "2023-11-14T01:47:48.636609",
     "exception": false,
     "start_time": "2023-11-14T01:47:48.629381",
     "status": "completed"
    },
    "tags": []
   },
   "source": [
    "Can you think of a case where this would be useful?  Once you're ready, run the code cell below to see the answer and to receive credit for completing the problem."
   ]
  },
  {
   "cell_type": "code",
   "execution_count": 5,
   "id": "42413f48",
   "metadata": {
    "execution": {
     "iopub.execute_input": "2023-11-14T01:47:48.653355Z",
     "iopub.status.busy": "2023-11-14T01:47:48.652902Z",
     "iopub.status.idle": "2023-11-14T01:47:48.661858Z",
     "shell.execute_reply": "2023-11-14T01:47:48.660763Z"
    },
    "papermill": {
     "duration": 0.020587,
     "end_time": "2023-11-14T01:47:48.664491",
     "exception": false,
     "start_time": "2023-11-14T01:47:48.643904",
     "status": "completed"
    },
    "tags": []
   },
   "outputs": [
    {
     "data": {
      "application/javascript": [
       "parent.postMessage({\"jupyterEvent\": \"custom.exercise_interaction\", \"data\": {\"interactionType\": 3, \"questionType\": 4, \"questionId\": \"2_RoundNdigitsProblem\", \"learnToolsVersion\": \"0.3.4\", \"valueTowardsCompletion\": 0.0, \"failureMessage\": \"\", \"exceptionClass\": \"\", \"trace\": \"\", \"outcomeType\": 4}}, \"*\")"
      ],
      "text/plain": [
       "<IPython.core.display.Javascript object>"
      ]
     },
     "metadata": {},
     "output_type": "display_data"
    },
    {
     "data": {
      "text/markdown": [
       "<span style=\"color:#33cc99\">Solution:</span> As you've seen, `ndigits=-1` rounds to the nearest 10, `ndigits=-2` rounds to the nearest 100 and so on. Where might this be useful? Suppose we're dealing with large numbers:\n",
       "\n",
       "> The area of Finland is 338,424 km²  \n",
       "> The area of Greenland is 2,166,086 km²\n",
       "\n",
       "We probably don't care whether it's really 338,424, or 338,425, or 338,177. All those digits of accuracy are just distracting. We can chop them off by calling `round()` with `ndigits=-3`:\n",
       "\n",
       "> The area of Finland is 338,000 km²  \n",
       "> The area of Greenland is 2,166,000 km²\n",
       "\n",
       "(We'll talk about how we would get the commas later when we talk about string formatting :))\n"
      ],
      "text/plain": [
       "Solution: As you've seen, `ndigits=-1` rounds to the nearest 10, `ndigits=-2` rounds to the nearest 100 and so on. Where might this be useful? Suppose we're dealing with large numbers:\n",
       "\n",
       "> The area of Finland is 338,424 km²  \n",
       "> The area of Greenland is 2,166,086 km²\n",
       "\n",
       "We probably don't care whether it's really 338,424, or 338,425, or 338,177. All those digits of accuracy are just distracting. We can chop them off by calling `round()` with `ndigits=-3`:\n",
       "\n",
       "> The area of Finland is 338,000 km²  \n",
       "> The area of Greenland is 2,166,000 km²\n",
       "\n",
       "(We'll talk about how we would get the commas later when we talk about string formatting :))"
      ]
     },
     "metadata": {},
     "output_type": "display_data"
    }
   ],
   "source": [
    "# Check your answer (Run this code cell to receive credit!)\n",
    "q2.solution()"
   ]
  },
  {
   "cell_type": "markdown",
   "id": "8855f95b",
   "metadata": {
    "papermill": {
     "duration": 0.007486,
     "end_time": "2023-11-14T01:47:48.679650",
     "exception": false,
     "start_time": "2023-11-14T01:47:48.672164",
     "status": "completed"
    },
    "tags": []
   },
   "source": [
    "# 3.\n",
    "\n",
    "In the previous exercise, the candy-sharing friends Alice, Bob and Carol tried to split candies evenly. For the sake of their friendship, any candies left over would be smashed. For example, if they collectively bring home 91 candies, they'll take 30 each and smash 1.\n",
    "\n",
    "Below is a simple function that will calculate the number of candies to smash for *any* number of total candies.\n",
    "\n",
    "Modify it so that it optionally takes a second argument representing the number of friends the candies are being split between. If no second argument is provided, it should assume 3 friends, as before.\n",
    "\n",
    "Update the docstring to reflect this new behaviour."
   ]
  },
  {
   "cell_type": "code",
   "execution_count": 6,
   "id": "ca549dac",
   "metadata": {
    "execution": {
     "iopub.execute_input": "2023-11-14T01:47:48.697852Z",
     "iopub.status.busy": "2023-11-14T01:47:48.697174Z",
     "iopub.status.idle": "2023-11-14T01:47:48.706866Z",
     "shell.execute_reply": "2023-11-14T01:47:48.705816Z"
    },
    "papermill": {
     "duration": 0.021543,
     "end_time": "2023-11-14T01:47:48.709003",
     "exception": false,
     "start_time": "2023-11-14T01:47:48.687460",
     "status": "completed"
    },
    "tags": []
   },
   "outputs": [
    {
     "data": {
      "application/javascript": [
       "parent.postMessage({\"jupyterEvent\": \"custom.exercise_interaction\", \"data\": {\"outcomeType\": 1, \"valueTowardsCompletion\": 0.16666666666666666, \"interactionType\": 1, \"questionType\": 2, \"questionId\": \"3_CandySmashingFunctionProblem\", \"learnToolsVersion\": \"0.3.4\", \"failureMessage\": \"\", \"exceptionClass\": \"\", \"trace\": \"\"}}, \"*\")"
      ],
      "text/plain": [
       "<IPython.core.display.Javascript object>"
      ]
     },
     "metadata": {},
     "output_type": "display_data"
    },
    {
     "data": {
      "text/markdown": [
       "<span style=\"color:#33cc33\">Correct</span>"
      ],
      "text/plain": [
       "Correct"
      ]
     },
     "metadata": {},
     "output_type": "display_data"
    }
   ],
   "source": [
    "def to_smash(total_candies, n_friends=3):\n",
    "    \"\"\"Return the number of leftover candies that must be smashed after distributing\n",
    "    the given number of candies evenly between 3 friends.\n",
    "    \n",
    "    >>> to_smash(91)\n",
    "    1\n",
    "    \"\"\"\n",
    "    return total_candies % n_friends\n",
    "\n",
    "# Check your answer\n",
    "q3.check()"
   ]
  },
  {
   "cell_type": "code",
   "execution_count": 7,
   "id": "e81d49bc",
   "metadata": {
    "execution": {
     "iopub.execute_input": "2023-11-14T01:47:48.726784Z",
     "iopub.status.busy": "2023-11-14T01:47:48.726395Z",
     "iopub.status.idle": "2023-11-14T01:47:48.734946Z",
     "shell.execute_reply": "2023-11-14T01:47:48.733894Z"
    },
    "papermill": {
     "duration": 0.020177,
     "end_time": "2023-11-14T01:47:48.737135",
     "exception": false,
     "start_time": "2023-11-14T01:47:48.716958",
     "status": "completed"
    },
    "tags": []
   },
   "outputs": [
    {
     "data": {
      "application/javascript": [
       "parent.postMessage({\"jupyterEvent\": \"custom.exercise_interaction\", \"data\": {\"interactionType\": 2, \"questionType\": 2, \"questionId\": \"3_CandySmashingFunctionProblem\", \"learnToolsVersion\": \"0.3.4\", \"valueTowardsCompletion\": 0.0, \"failureMessage\": \"\", \"exceptionClass\": \"\", \"trace\": \"\", \"outcomeType\": 4}}, \"*\")"
      ],
      "text/plain": [
       "<IPython.core.display.Javascript object>"
      ]
     },
     "metadata": {},
     "output_type": "display_data"
    },
    {
     "data": {
      "text/markdown": [
       "<span style=\"color:#3366cc\">Hint:</span> Refer to the section of the last tutorial notebook where we talked about default arguments"
      ],
      "text/plain": [
       "Hint: Refer to the section of the last tutorial notebook where we talked about default arguments"
      ]
     },
     "metadata": {},
     "output_type": "display_data"
    }
   ],
   "source": [
    "q3.hint()"
   ]
  },
  {
   "cell_type": "code",
   "execution_count": 8,
   "id": "8e48549e",
   "metadata": {
    "execution": {
     "iopub.execute_input": "2023-11-14T01:47:48.758608Z",
     "iopub.status.busy": "2023-11-14T01:47:48.757148Z",
     "iopub.status.idle": "2023-11-14T01:47:48.768548Z",
     "shell.execute_reply": "2023-11-14T01:47:48.767222Z"
    },
    "papermill": {
     "duration": 0.025869,
     "end_time": "2023-11-14T01:47:48.771344",
     "exception": false,
     "start_time": "2023-11-14T01:47:48.745475",
     "status": "completed"
    },
    "tags": []
   },
   "outputs": [
    {
     "data": {
      "application/javascript": [
       "parent.postMessage({\"jupyterEvent\": \"custom.exercise_interaction\", \"data\": {\"interactionType\": 3, \"questionType\": 2, \"questionId\": \"3_CandySmashingFunctionProblem\", \"learnToolsVersion\": \"0.3.4\", \"valueTowardsCompletion\": 0.0, \"failureMessage\": \"\", \"exceptionClass\": \"\", \"trace\": \"\", \"outcomeType\": 4}}, \"*\")"
      ],
      "text/plain": [
       "<IPython.core.display.Javascript object>"
      ]
     },
     "metadata": {},
     "output_type": "display_data"
    },
    {
     "data": {
      "text/markdown": [
       "<span style=\"color:#33cc99\">Solution:</span> \n",
       "```python\n",
       "def to_smash(total_candies, n_friends=3):\n",
       "    return total_candies % n_friends\n",
       "```"
      ],
      "text/plain": [
       "Solution: \n",
       "```python\n",
       "def to_smash(total_candies, n_friends=3):\n",
       "    return total_candies % n_friends\n",
       "```"
      ]
     },
     "metadata": {},
     "output_type": "display_data"
    }
   ],
   "source": [
    "q3.solution()"
   ]
  },
  {
   "cell_type": "markdown",
   "id": "359d2f84",
   "metadata": {
    "papermill": {
     "duration": 0.008602,
     "end_time": "2023-11-14T01:47:48.788871",
     "exception": false,
     "start_time": "2023-11-14T01:47:48.780269",
     "status": "completed"
    },
    "tags": []
   },
   "source": [
    "# 4. (Optional)\n",
    "\n",
    "It may not be fun, but reading and understanding error messages will be an important part of your Python career.\n",
    "\n",
    "Each code cell below contains some commented buggy code. For each cell...\n",
    "\n",
    "1. Read the code and predict what you think will happen when it's run.\n",
    "2. Then uncomment the code and run it to see what happens. (**Tip**: In the kernel editor, you can highlight several lines and press `ctrl`+`/` to toggle commenting.)\n",
    "3. Fix the code (so that it accomplishes its intended purpose without throwing an exception)\n",
    "\n",
    "<!-- TODO: should this be autochecked? Delta is probably pretty small. -->"
   ]
  },
  {
   "cell_type": "code",
   "execution_count": 9,
   "id": "4c35cd65",
   "metadata": {
    "execution": {
     "iopub.execute_input": "2023-11-14T01:47:48.808665Z",
     "iopub.status.busy": "2023-11-14T01:47:48.807682Z",
     "iopub.status.idle": "2023-11-14T01:47:48.812411Z",
     "shell.execute_reply": "2023-11-14T01:47:48.811324Z"
    },
    "papermill": {
     "duration": 0.016949,
     "end_time": "2023-11-14T01:47:48.814519",
     "exception": false,
     "start_time": "2023-11-14T01:47:48.797570",
     "status": "completed"
    },
    "tags": []
   },
   "outputs": [],
   "source": [
    "# ruound_to_two_places(9.9999)"
   ]
  },
  {
   "cell_type": "code",
   "execution_count": 10,
   "id": "95d14c3c",
   "metadata": {
    "execution": {
     "iopub.execute_input": "2023-11-14T01:47:48.835255Z",
     "iopub.status.busy": "2023-11-14T01:47:48.834195Z",
     "iopub.status.idle": "2023-11-14T01:47:48.839808Z",
     "shell.execute_reply": "2023-11-14T01:47:48.838197Z"
    },
    "papermill": {
     "duration": 0.020351,
     "end_time": "2023-11-14T01:47:48.843808",
     "exception": false,
     "start_time": "2023-11-14T01:47:48.823457",
     "status": "completed"
    },
    "tags": []
   },
   "outputs": [],
   "source": [
    "# x = -10\n",
    "# y = 5\n",
    "# # Which of the two variables above has the smallest absolute value?\n",
    "# smallest_abs = min(abs(x, y))"
   ]
  },
  {
   "cell_type": "code",
   "execution_count": 11,
   "id": "71fe5fad",
   "metadata": {
    "execution": {
     "iopub.execute_input": "2023-11-14T01:47:48.863818Z",
     "iopub.status.busy": "2023-11-14T01:47:48.863142Z",
     "iopub.status.idle": "2023-11-14T01:47:48.867916Z",
     "shell.execute_reply": "2023-11-14T01:47:48.866792Z"
    },
    "papermill": {
     "duration": 0.017639,
     "end_time": "2023-11-14T01:47:48.870370",
     "exception": false,
     "start_time": "2023-11-14T01:47:48.852731",
     "status": "completed"
    },
    "tags": []
   },
   "outputs": [],
   "source": [
    "# def f(x):\n",
    "#     y = abs(x)\n",
    "# return y\n",
    "\n",
    "# print(f(5))"
   ]
  },
  {
   "cell_type": "markdown",
   "id": "12d04315",
   "metadata": {
    "papermill": {
     "duration": 0.008847,
     "end_time": "2023-11-14T01:47:48.888310",
     "exception": false,
     "start_time": "2023-11-14T01:47:48.879463",
     "status": "completed"
    },
    "tags": []
   },
   "source": [
    "# Keep Going\n",
    "\n",
    "Nice job with the code. Next up, you'll learn about *conditionals*, which you'll need to **[write interesting programs](https://www.kaggle.com/colinmorris/booleans-and-conditionals)**. "
   ]
  },
  {
   "cell_type": "markdown",
   "id": "e5c8f40b",
   "metadata": {
    "papermill": {
     "duration": 0.008586,
     "end_time": "2023-11-14T01:47:48.905973",
     "exception": false,
     "start_time": "2023-11-14T01:47:48.897387",
     "status": "completed"
    },
    "tags": []
   },
   "source": [
    "---\n",
    "\n",
    "\n",
    "\n",
    "\n",
    "*Have questions or comments? Visit the [course discussion forum](https://www.kaggle.com/learn/python/discussion) to chat with other learners.*"
   ]
  }
 ],
 "metadata": {
  "kernelspec": {
   "display_name": "Python 3",
   "language": "python",
   "name": "python3"
  },
  "language_info": {
   "codemirror_mode": {
    "name": "ipython",
    "version": 3
   },
   "file_extension": ".py",
   "mimetype": "text/x-python",
   "name": "python",
   "nbconvert_exporter": "python",
   "pygments_lexer": "ipython3",
   "version": "3.10.12"
  },
  "papermill": {
   "default_parameters": {},
   "duration": 4.907323,
   "end_time": "2023-11-14T01:47:49.438339",
   "environment_variables": {},
   "exception": null,
   "input_path": "__notebook__.ipynb",
   "output_path": "__notebook__.ipynb",
   "parameters": {},
   "start_time": "2023-11-14T01:47:44.531016",
   "version": "2.4.0"
  }
 },
 "nbformat": 4,
 "nbformat_minor": 5
}
