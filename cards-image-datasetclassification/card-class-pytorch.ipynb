{
 "cells": [
  {
   "cell_type": "code",
   "execution_count": 1,
   "id": "384c24e4",
   "metadata": {
    "execution": {
     "iopub.execute_input": "2023-11-09T12:26:42.678338Z",
     "iopub.status.busy": "2023-11-09T12:26:42.677972Z",
     "iopub.status.idle": "2023-11-09T12:26:49.424020Z",
     "shell.execute_reply": "2023-11-09T12:26:49.423220Z"
    },
    "papermill": {
     "duration": 6.7548,
     "end_time": "2023-11-09T12:26:49.426376",
     "exception": false,
     "start_time": "2023-11-09T12:26:42.671576",
     "status": "completed"
    },
    "tags": []
   },
   "outputs": [],
   "source": [
    "import torch\n",
    "import torch.nn as nn\n",
    "import torch.optim as optim\n",
    "from torch.utils.data import Dataset, DataLoader\n",
    "import torchvision.transforms as transforms\n",
    "from torchvision.datasets import ImageFolder\n",
    "import timm\n",
    "from torchvision import datasets, transforms\n",
    "from torchvision.transforms import ToTensor\n",
    "import matplotlib.pyplot as plt\n",
    "import pandas as pd\n",
    "import numpy as np"
   ]
  },
  {
   "cell_type": "code",
   "execution_count": 2,
   "id": "aa5414b7",
   "metadata": {
    "execution": {
     "iopub.execute_input": "2023-11-09T12:26:49.438010Z",
     "iopub.status.busy": "2023-11-09T12:26:49.437288Z",
     "iopub.status.idle": "2023-11-09T12:26:49.493034Z",
     "shell.execute_reply": "2023-11-09T12:26:49.492209Z"
    },
    "papermill": {
     "duration": 0.063378,
     "end_time": "2023-11-09T12:26:49.494950",
     "exception": false,
     "start_time": "2023-11-09T12:26:49.431572",
     "status": "completed"
    },
    "tags": []
   },
   "outputs": [
    {
     "data": {
      "text/html": [
       "<div>\n",
       "<style scoped>\n",
       "    .dataframe tbody tr th:only-of-type {\n",
       "        vertical-align: middle;\n",
       "    }\n",
       "\n",
       "    .dataframe tbody tr th {\n",
       "        vertical-align: top;\n",
       "    }\n",
       "\n",
       "    .dataframe thead th {\n",
       "        text-align: right;\n",
       "    }\n",
       "</style>\n",
       "<table border=\"1\" class=\"dataframe\">\n",
       "  <thead>\n",
       "    <tr style=\"text-align: right;\">\n",
       "      <th></th>\n",
       "      <th>class index</th>\n",
       "      <th>filepaths</th>\n",
       "      <th>labels</th>\n",
       "      <th>card type</th>\n",
       "      <th>data set</th>\n",
       "    </tr>\n",
       "  </thead>\n",
       "  <tbody>\n",
       "    <tr>\n",
       "      <th>0</th>\n",
       "      <td>0</td>\n",
       "      <td>train/ace of clubs/001.jpg</td>\n",
       "      <td>ace of clubs</td>\n",
       "      <td>ace</td>\n",
       "      <td>train</td>\n",
       "    </tr>\n",
       "    <tr>\n",
       "      <th>1</th>\n",
       "      <td>0</td>\n",
       "      <td>train/ace of clubs/002.jpg</td>\n",
       "      <td>ace of clubs</td>\n",
       "      <td>ace</td>\n",
       "      <td>train</td>\n",
       "    </tr>\n",
       "    <tr>\n",
       "      <th>2</th>\n",
       "      <td>0</td>\n",
       "      <td>train/ace of clubs/003.jpg</td>\n",
       "      <td>ace of clubs</td>\n",
       "      <td>ace</td>\n",
       "      <td>train</td>\n",
       "    </tr>\n",
       "    <tr>\n",
       "      <th>3</th>\n",
       "      <td>0</td>\n",
       "      <td>train/ace of clubs/004.jpg</td>\n",
       "      <td>ace of clubs</td>\n",
       "      <td>ace</td>\n",
       "      <td>train</td>\n",
       "    </tr>\n",
       "    <tr>\n",
       "      <th>4</th>\n",
       "      <td>0</td>\n",
       "      <td>train/ace of clubs/005.jpg</td>\n",
       "      <td>ace of clubs</td>\n",
       "      <td>ace</td>\n",
       "      <td>train</td>\n",
       "    </tr>\n",
       "  </tbody>\n",
       "</table>\n",
       "</div>"
      ],
      "text/plain": [
       "   class index                   filepaths        labels card type data set\n",
       "0            0  train/ace of clubs/001.jpg  ace of clubs       ace    train\n",
       "1            0  train/ace of clubs/002.jpg  ace of clubs       ace    train\n",
       "2            0  train/ace of clubs/003.jpg  ace of clubs       ace    train\n",
       "3            0  train/ace of clubs/004.jpg  ace of clubs       ace    train\n",
       "4            0  train/ace of clubs/005.jpg  ace of clubs       ace    train"
      ]
     },
     "execution_count": 2,
     "metadata": {},
     "output_type": "execute_result"
    }
   ],
   "source": [
    "cards_csv = pd.read_csv(\"/kaggle/input/cards-image-datasetclassification/cards.csv\")\n",
    "cards_csv.head()"
   ]
  },
  {
   "cell_type": "code",
   "execution_count": 3,
   "id": "5e8332d0",
   "metadata": {
    "execution": {
     "iopub.execute_input": "2023-11-09T12:26:49.506363Z",
     "iopub.status.busy": "2023-11-09T12:26:49.505900Z",
     "iopub.status.idle": "2023-11-09T12:26:49.510495Z",
     "shell.execute_reply": "2023-11-09T12:26:49.509682Z"
    },
    "papermill": {
     "duration": 0.012422,
     "end_time": "2023-11-09T12:26:49.512453",
     "exception": false,
     "start_time": "2023-11-09T12:26:49.500031",
     "status": "completed"
    },
    "tags": []
   },
   "outputs": [],
   "source": [
    "# Transformações de pré-processamento se necessário.\n",
    "transform = transforms.Compose([\n",
    "    transforms.Grayscale(num_output_channels=1),\n",
    "    transforms.Resize((128, 128)),\n",
    "    transforms.ToTensor(),\n",
    "])"
   ]
  },
  {
   "cell_type": "code",
   "execution_count": 4,
   "id": "d6a87d85",
   "metadata": {
    "execution": {
     "iopub.execute_input": "2023-11-09T12:26:49.523287Z",
     "iopub.status.busy": "2023-11-09T12:26:49.523006Z",
     "iopub.status.idle": "2023-11-09T12:26:52.008493Z",
     "shell.execute_reply": "2023-11-09T12:26:52.007521Z"
    },
    "papermill": {
     "duration": 2.49359,
     "end_time": "2023-11-09T12:26:52.010971",
     "exception": false,
     "start_time": "2023-11-09T12:26:49.517381",
     "status": "completed"
    },
    "tags": []
   },
   "outputs": [],
   "source": [
    "# Conjuntos de dados para treinamento e teste:\n",
    "# Transformar rgb in greyscale !!!!!!!\n",
    "train_dataset = datasets.ImageFolder('/kaggle/input/cards-image-datasetclassification/train', transform=transform)\n",
    "test_dataset = datasets.ImageFolder('/kaggle/input/cards-image-datasetclassification/test', transform=transform)"
   ]
  },
  {
   "cell_type": "code",
   "execution_count": 5,
   "id": "292c9aa3",
   "metadata": {
    "execution": {
     "iopub.execute_input": "2023-11-09T12:26:52.022659Z",
     "iopub.status.busy": "2023-11-09T12:26:52.022359Z",
     "iopub.status.idle": "2023-11-09T12:26:52.368846Z",
     "shell.execute_reply": "2023-11-09T12:26:52.367860Z"
    },
    "papermill": {
     "duration": 0.354906,
     "end_time": "2023-11-09T12:26:52.371189",
     "exception": false,
     "start_time": "2023-11-09T12:26:52.016283",
     "status": "completed"
    },
    "tags": []
   },
   "outputs": [
    {
     "name": "stdout",
     "output_type": "stream",
     "text": [
      "Shape of X [N, C, H, W]: torch.Size([32, 1, 128, 128])\n",
      "Shape of y: torch.Size([32]) torch.int64\n"
     ]
    }
   ],
   "source": [
    "# Crie carregadores de dados para treinamento e teste:\n",
    "batch_size = 32\n",
    "train_loader = DataLoader(train_dataset, batch_size=batch_size, shuffle=True)\n",
    "test_loader = DataLoader(test_dataset, batch_size=batch_size, shuffle=False)\n",
    "\n",
    "\n",
    "for X, y in test_loader:\n",
    "    print(f\"Shape of X [N, C, H, W]: {X.shape}\")\n",
    "    print(f\"Shape of y: {y.shape} {y.dtype}\")\n",
    "    break"
   ]
  },
  {
   "cell_type": "code",
   "execution_count": 6,
   "id": "60245a50",
   "metadata": {
    "execution": {
     "iopub.execute_input": "2023-11-09T12:26:52.382932Z",
     "iopub.status.busy": "2023-11-09T12:26:52.382628Z",
     "iopub.status.idle": "2023-11-09T12:26:52.488216Z",
     "shell.execute_reply": "2023-11-09T12:26:52.487112Z"
    },
    "papermill": {
     "duration": 0.113711,
     "end_time": "2023-11-09T12:26:52.490316",
     "exception": false,
     "start_time": "2023-11-09T12:26:52.376605",
     "status": "completed"
    },
    "tags": []
   },
   "outputs": [
    {
     "name": "stdout",
     "output_type": "stream",
     "text": [
      "Using cuda device\n"
     ]
    }
   ],
   "source": [
    "# Get cpu, gpu or mps device for training.\n",
    "device = (\n",
    "    \"cuda\"\n",
    "    if torch.cuda.is_available()\n",
    "    else \"mps\"\n",
    "    if torch.backends.mps.is_available()\n",
    "    else \"cpu\"\n",
    ")\n",
    "print(f\"Using {device} device\")"
   ]
  },
  {
   "cell_type": "markdown",
   "id": "a686f05d",
   "metadata": {
    "papermill": {
     "duration": 0.005058,
     "end_time": "2023-11-09T12:26:52.500633",
     "exception": false,
     "start_time": "2023-11-09T12:26:52.495575",
     "status": "completed"
    },
    "tags": []
   },
   "source": [
    "# Definindo o modelo"
   ]
  },
  {
   "cell_type": "code",
   "execution_count": 7,
   "id": "f870ae71",
   "metadata": {
    "execution": {
     "iopub.execute_input": "2023-11-09T12:26:52.512601Z",
     "iopub.status.busy": "2023-11-09T12:26:52.512279Z",
     "iopub.status.idle": "2023-11-09T12:26:55.888445Z",
     "shell.execute_reply": "2023-11-09T12:26:55.887371Z"
    },
    "papermill": {
     "duration": 3.384687,
     "end_time": "2023-11-09T12:26:55.890821",
     "exception": false,
     "start_time": "2023-11-09T12:26:52.506134",
     "status": "completed"
    },
    "tags": []
   },
   "outputs": [
    {
     "name": "stdout",
     "output_type": "stream",
     "text": [
      "NeuralNetwork(\n",
      "  (flatten): Flatten(start_dim=1, end_dim=-1)\n",
      "  (linear_relu_stack): Sequential(\n",
      "    (0): Linear(in_features=16384, out_features=512, bias=True)\n",
      "    (1): ReLU()\n",
      "    (2): Linear(in_features=512, out_features=256, bias=True)\n",
      "    (3): ReLU()\n",
      "    (4): Linear(in_features=256, out_features=128, bias=True)\n",
      "    (5): ReLU()\n",
      "    (6): Linear(in_features=128, out_features=53, bias=True)\n",
      "  )\n",
      ")\n"
     ]
    }
   ],
   "source": [
    "# Define model\n",
    "class NeuralNetwork(nn.Module):\n",
    "    def __init__(self):\n",
    "        super().__init__()\n",
    "        self.flatten = nn.Flatten()\n",
    "        self.linear_relu_stack = nn.Sequential(\n",
    "            nn.Linear(128*128, 512),  # Dúvida aqui (Valores passados!) !!!\n",
    "            nn.ReLU(),\n",
    "            nn.Linear(512, 256),\n",
    "            nn.ReLU(),\n",
    "            nn.Linear(256, 128),\n",
    "            nn.ReLU(),\n",
    "            nn.Linear(128, 53)\n",
    "        )\n",
    "\n",
    "    def forward(self, x):\n",
    "        x = self.flatten(x)\n",
    "        logits = self.linear_relu_stack(x)\n",
    "        return logits\n",
    "\n",
    "model = NeuralNetwork().to(device)\n",
    "print(model)"
   ]
  },
  {
   "cell_type": "markdown",
   "id": "0327ca75",
   "metadata": {
    "papermill": {
     "duration": 0.005139,
     "end_time": "2023-11-09T12:26:55.901521",
     "exception": false,
     "start_time": "2023-11-09T12:26:55.896382",
     "status": "completed"
    },
    "tags": []
   },
   "source": [
    "# Otimizando os parâmetros do modelo"
   ]
  },
  {
   "cell_type": "code",
   "execution_count": 8,
   "id": "ac67ff4b",
   "metadata": {
    "execution": {
     "iopub.execute_input": "2023-11-09T12:26:55.912961Z",
     "iopub.status.busy": "2023-11-09T12:26:55.912685Z",
     "iopub.status.idle": "2023-11-09T12:26:55.917012Z",
     "shell.execute_reply": "2023-11-09T12:26:55.916241Z"
    },
    "papermill": {
     "duration": 0.012232,
     "end_time": "2023-11-09T12:26:55.918915",
     "exception": false,
     "start_time": "2023-11-09T12:26:55.906683",
     "status": "completed"
    },
    "tags": []
   },
   "outputs": [],
   "source": [
    "loss_fn = nn.CrossEntropyLoss()\n",
    "optimizer = torch.optim.SGD(model.parameters(), lr=1e-3)"
   ]
  },
  {
   "cell_type": "code",
   "execution_count": 9,
   "id": "dc4f079a",
   "metadata": {
    "execution": {
     "iopub.execute_input": "2023-11-09T12:26:55.930796Z",
     "iopub.status.busy": "2023-11-09T12:26:55.930098Z",
     "iopub.status.idle": "2023-11-09T12:26:55.936569Z",
     "shell.execute_reply": "2023-11-09T12:26:55.935721Z"
    },
    "papermill": {
     "duration": 0.014424,
     "end_time": "2023-11-09T12:26:55.938469",
     "exception": false,
     "start_time": "2023-11-09T12:26:55.924045",
     "status": "completed"
    },
    "tags": []
   },
   "outputs": [],
   "source": [
    "def train(dataloader, model, loss_fn, optimizer):   # Dúvida nessa etapa !!!\n",
    "    size = len(dataloader.dataset)\n",
    "    model.train()\n",
    "    for batch, (X, y) in enumerate(dataloader):\n",
    "        X, y = X.to(device), y.to(device)\n",
    "\n",
    "        # Compute prediction error\n",
    "        pred = model(X)\n",
    "        loss = loss_fn(pred, y)\n",
    "\n",
    "        # Backpropagation\n",
    "        loss.backward()\n",
    "        optimizer.step()\n",
    "        optimizer.zero_grad()\n",
    "\n",
    "        if batch % 100 == 0:\n",
    "            loss, current = loss.item(), (batch + 1) * len(X)\n",
    "            print(f\"loss: {loss:>7f}  [{current:>5d}/{size:>5d}]\")"
   ]
  },
  {
   "cell_type": "code",
   "execution_count": 10,
   "id": "d8c13965",
   "metadata": {
    "execution": {
     "iopub.execute_input": "2023-11-09T12:26:55.950272Z",
     "iopub.status.busy": "2023-11-09T12:26:55.949723Z",
     "iopub.status.idle": "2023-11-09T12:26:55.956039Z",
     "shell.execute_reply": "2023-11-09T12:26:55.955291Z"
    },
    "papermill": {
     "duration": 0.014318,
     "end_time": "2023-11-09T12:26:55.957896",
     "exception": false,
     "start_time": "2023-11-09T12:26:55.943578",
     "status": "completed"
    },
    "tags": []
   },
   "outputs": [],
   "source": [
    "def test(dataloader, model, loss_fn):   \n",
    "    size = len(dataloader.dataset)\n",
    "    num_batches = len(dataloader)\n",
    "    model.eval()\n",
    "    test_loss, correct = 0, 0\n",
    "    with torch.no_grad():\n",
    "        for X, y in dataloader:\n",
    "            X, y = X.to(device), y.to(device)\n",
    "            pred = model(X)\n",
    "            test_loss += loss_fn(pred, y).item()\n",
    "            correct += (pred.argmax(1) == y).type(torch.float).sum().item()\n",
    "    test_loss /= num_batches\n",
    "    correct /= size\n",
    "    print(f\"Test Error: \\n Accuracy: {(100*correct):>0.1f}%, Avg loss: {test_loss:>8f} \\n\")"
   ]
  },
  {
   "cell_type": "code",
   "execution_count": 11,
   "id": "5084ba6c",
   "metadata": {
    "execution": {
     "iopub.execute_input": "2023-11-09T12:26:55.969272Z",
     "iopub.status.busy": "2023-11-09T12:26:55.969009Z",
     "iopub.status.idle": "2023-11-09T12:28:48.427973Z",
     "shell.execute_reply": "2023-11-09T12:28:48.426648Z"
    },
    "papermill": {
     "duration": 112.467329,
     "end_time": "2023-11-09T12:28:48.430341",
     "exception": false,
     "start_time": "2023-11-09T12:26:55.963012",
     "status": "completed"
    },
    "tags": []
   },
   "outputs": [
    {
     "name": "stdout",
     "output_type": "stream",
     "text": [
      "Epoch 1\n",
      "------------------------------>\n",
      "loss: 3.975934  [   32/ 7624]\n",
      "loss: 3.966501  [ 3232/ 7624]\n",
      "loss: 3.969722  [ 6432/ 7624]\n",
      "Test Error: \n",
      " Accuracy: 3.8%, Avg loss: 3.965639 \n",
      "\n",
      "Epoch 2\n",
      "------------------------------>\n",
      "loss: 3.982191  [   32/ 7624]\n",
      "loss: 3.975721  [ 3232/ 7624]\n",
      "loss: 3.966640  [ 6432/ 7624]\n",
      "Test Error: \n",
      " Accuracy: 3.0%, Avg loss: 3.961413 \n",
      "\n",
      "Epoch 3\n",
      "------------------------------>\n",
      "loss: 3.974455  [   32/ 7624]\n",
      "loss: 3.985400  [ 3232/ 7624]\n",
      "loss: 3.956096  [ 6432/ 7624]\n",
      "Test Error: \n",
      " Accuracy: 4.9%, Avg loss: 3.956224 \n",
      "\n",
      "Epoch 4\n",
      "------------------------------>\n",
      "loss: 3.954335  [   32/ 7624]\n",
      "loss: 3.968601  [ 3232/ 7624]\n",
      "loss: 3.952565  [ 6432/ 7624]\n",
      "Test Error: \n",
      " Accuracy: 5.7%, Avg loss: 3.953474 \n",
      "\n",
      "Epoch 5\n",
      "------------------------------>\n",
      "loss: 3.948606  [   32/ 7624]\n",
      "loss: 3.932954  [ 3232/ 7624]\n",
      "loss: 3.949716  [ 6432/ 7624]\n",
      "Test Error: \n",
      " Accuracy: 4.5%, Avg loss: 3.947773 \n",
      "\n",
      "Done!\n"
     ]
    }
   ],
   "source": [
    "epochs = 5\n",
    "\n",
    "for t in range(epochs):\n",
    "    print(f\"Epoch {t+1}\\n------------------------------>\")\n",
    "    train(train_loader, model, loss_fn, optimizer)\n",
    "    test(test_loader, model, loss_fn)\n",
    "print(\"Done!\")"
   ]
  },
  {
   "cell_type": "code",
   "execution_count": 12,
   "id": "45305553",
   "metadata": {
    "execution": {
     "iopub.execute_input": "2023-11-09T12:28:48.446818Z",
     "iopub.status.busy": "2023-11-09T12:28:48.446118Z",
     "iopub.status.idle": "2023-11-09T12:28:48.522848Z",
     "shell.execute_reply": "2023-11-09T12:28:48.521773Z"
    },
    "papermill": {
     "duration": 0.086962,
     "end_time": "2023-11-09T12:28:48.524915",
     "exception": false,
     "start_time": "2023-11-09T12:28:48.437953",
     "status": "completed"
    },
    "tags": []
   },
   "outputs": [
    {
     "name": "stdout",
     "output_type": "stream",
     "text": [
      "Saved PyTorch Model State to model.pth\n"
     ]
    }
   ],
   "source": [
    "torch.save(model.state_dict(), \"model.pth\")\n",
    "print(\"Saved PyTorch Model State to model.pth\")"
   ]
  },
  {
   "cell_type": "markdown",
   "id": "ac536327",
   "metadata": {
    "papermill": {
     "duration": 0.006673,
     "end_time": "2023-11-09T12:28:48.539138",
     "exception": false,
     "start_time": "2023-11-09T12:28:48.532465",
     "status": "completed"
    },
    "tags": []
   },
   "source": [
    "# Loading Model"
   ]
  },
  {
   "cell_type": "code",
   "execution_count": 13,
   "id": "8192520c",
   "metadata": {
    "execution": {
     "iopub.execute_input": "2023-11-09T12:28:48.553600Z",
     "iopub.status.busy": "2023-11-09T12:28:48.552841Z",
     "iopub.status.idle": "2023-11-09T12:28:48.668742Z",
     "shell.execute_reply": "2023-11-09T12:28:48.667705Z"
    },
    "papermill": {
     "duration": 0.125417,
     "end_time": "2023-11-09T12:28:48.670964",
     "exception": false,
     "start_time": "2023-11-09T12:28:48.545547",
     "status": "completed"
    },
    "tags": []
   },
   "outputs": [
    {
     "data": {
      "text/plain": [
       "<All keys matched successfully>"
      ]
     },
     "execution_count": 13,
     "metadata": {},
     "output_type": "execute_result"
    }
   ],
   "source": [
    "model = NeuralNetwork().to(device)\n",
    "model.load_state_dict(torch.load(\"model.pth\"))"
   ]
  },
  {
   "cell_type": "code",
   "execution_count": 14,
   "id": "6106f1c8",
   "metadata": {
    "execution": {
     "iopub.execute_input": "2023-11-09T12:28:48.686555Z",
     "iopub.status.busy": "2023-11-09T12:28:48.686250Z",
     "iopub.status.idle": "2023-11-09T12:28:48.705677Z",
     "shell.execute_reply": "2023-11-09T12:28:48.704714Z"
    },
    "papermill": {
     "duration": 0.029334,
     "end_time": "2023-11-09T12:28:48.707526",
     "exception": false,
     "start_time": "2023-11-09T12:28:48.678192",
     "status": "completed"
    },
    "tags": []
   },
   "outputs": [
    {
     "name": "stdout",
     "output_type": "stream",
     "text": [
      "Predicted: \"ace of spades\", Actual: \"ace of clubs\"\n"
     ]
    }
   ],
   "source": [
    "classes = cards_csv['labels'].unique()\n",
    "\n",
    "model.eval()\n",
    "x, y = test_dataset[0]\n",
    "with torch.no_grad():\n",
    "    x = x.to(device)\n",
    "    pred = model(x)\n",
    "    predicted, actual = classes[pred[0].argmax(0)], classes[y]\n",
    "    print(f'Predicted: \"{predicted}\", Actual: \"{actual}\"')"
   ]
  }
 ],
 "metadata": {
  "kernelspec": {
   "display_name": "Python 3",
   "language": "python",
   "name": "python3"
  },
  "language_info": {
   "codemirror_mode": {
    "name": "ipython",
    "version": 3
   },
   "file_extension": ".py",
   "mimetype": "text/x-python",
   "name": "python",
   "nbconvert_exporter": "python",
   "pygments_lexer": "ipython3",
   "version": "3.10.12"
  },
  "papermill": {
   "default_parameters": {},
   "duration": 131.380927,
   "end_time": "2023-11-09T12:28:50.437911",
   "environment_variables": {},
   "exception": null,
   "input_path": "__notebook__.ipynb",
   "output_path": "__notebook__.ipynb",
   "parameters": {},
   "start_time": "2023-11-09T12:26:39.056984",
   "version": "2.4.0"
  }
 },
 "nbformat": 4,
 "nbformat_minor": 5
}
