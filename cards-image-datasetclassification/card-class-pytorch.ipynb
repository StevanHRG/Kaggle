{
 "cells": [
  {
   "cell_type": "code",
   "execution_count": 1,
   "id": "e8ece7a9",
   "metadata": {
    "execution": {
     "iopub.execute_input": "2023-11-12T16:47:49.462288Z",
     "iopub.status.busy": "2023-11-12T16:47:49.461874Z",
     "iopub.status.idle": "2023-11-12T16:47:54.984849Z",
     "shell.execute_reply": "2023-11-12T16:47:54.983850Z"
    },
    "papermill": {
     "duration": 5.532116,
     "end_time": "2023-11-12T16:47:54.987276",
     "exception": false,
     "start_time": "2023-11-12T16:47:49.455160",
     "status": "completed"
    },
    "tags": []
   },
   "outputs": [],
   "source": [
    "import torch\n",
    "import torch.nn as nn\n",
    "import torch.optim as optim\n",
    "from torch.utils.data import Dataset, DataLoader\n",
    "import torchvision.transforms as transforms\n",
    "from torchvision.datasets import ImageFolder\n",
    "import timm\n",
    "from torchvision import datasets, transforms\n",
    "from torchvision.transforms import ToTensor\n",
    "import matplotlib.pyplot as plt\n",
    "import pandas as pd\n",
    "import numpy as np"
   ]
  },
  {
   "cell_type": "code",
   "execution_count": 2,
   "id": "da665d7d",
   "metadata": {
    "execution": {
     "iopub.execute_input": "2023-11-12T16:47:54.998487Z",
     "iopub.status.busy": "2023-11-12T16:47:54.998056Z",
     "iopub.status.idle": "2023-11-12T16:47:55.043784Z",
     "shell.execute_reply": "2023-11-12T16:47:55.042884Z"
    },
    "papermill": {
     "duration": 0.053731,
     "end_time": "2023-11-12T16:47:55.046161",
     "exception": false,
     "start_time": "2023-11-12T16:47:54.992430",
     "status": "completed"
    },
    "tags": []
   },
   "outputs": [
    {
     "data": {
      "text/html": [
       "<div>\n",
       "<style scoped>\n",
       "    .dataframe tbody tr th:only-of-type {\n",
       "        vertical-align: middle;\n",
       "    }\n",
       "\n",
       "    .dataframe tbody tr th {\n",
       "        vertical-align: top;\n",
       "    }\n",
       "\n",
       "    .dataframe thead th {\n",
       "        text-align: right;\n",
       "    }\n",
       "</style>\n",
       "<table border=\"1\" class=\"dataframe\">\n",
       "  <thead>\n",
       "    <tr style=\"text-align: right;\">\n",
       "      <th></th>\n",
       "      <th>class index</th>\n",
       "      <th>filepaths</th>\n",
       "      <th>labels</th>\n",
       "      <th>card type</th>\n",
       "      <th>data set</th>\n",
       "    </tr>\n",
       "  </thead>\n",
       "  <tbody>\n",
       "    <tr>\n",
       "      <th>0</th>\n",
       "      <td>0</td>\n",
       "      <td>train/ace of clubs/001.jpg</td>\n",
       "      <td>ace of clubs</td>\n",
       "      <td>ace</td>\n",
       "      <td>train</td>\n",
       "    </tr>\n",
       "    <tr>\n",
       "      <th>1</th>\n",
       "      <td>0</td>\n",
       "      <td>train/ace of clubs/002.jpg</td>\n",
       "      <td>ace of clubs</td>\n",
       "      <td>ace</td>\n",
       "      <td>train</td>\n",
       "    </tr>\n",
       "    <tr>\n",
       "      <th>2</th>\n",
       "      <td>0</td>\n",
       "      <td>train/ace of clubs/003.jpg</td>\n",
       "      <td>ace of clubs</td>\n",
       "      <td>ace</td>\n",
       "      <td>train</td>\n",
       "    </tr>\n",
       "    <tr>\n",
       "      <th>3</th>\n",
       "      <td>0</td>\n",
       "      <td>train/ace of clubs/004.jpg</td>\n",
       "      <td>ace of clubs</td>\n",
       "      <td>ace</td>\n",
       "      <td>train</td>\n",
       "    </tr>\n",
       "    <tr>\n",
       "      <th>4</th>\n",
       "      <td>0</td>\n",
       "      <td>train/ace of clubs/005.jpg</td>\n",
       "      <td>ace of clubs</td>\n",
       "      <td>ace</td>\n",
       "      <td>train</td>\n",
       "    </tr>\n",
       "  </tbody>\n",
       "</table>\n",
       "</div>"
      ],
      "text/plain": [
       "   class index                   filepaths        labels card type data set\n",
       "0            0  train/ace of clubs/001.jpg  ace of clubs       ace    train\n",
       "1            0  train/ace of clubs/002.jpg  ace of clubs       ace    train\n",
       "2            0  train/ace of clubs/003.jpg  ace of clubs       ace    train\n",
       "3            0  train/ace of clubs/004.jpg  ace of clubs       ace    train\n",
       "4            0  train/ace of clubs/005.jpg  ace of clubs       ace    train"
      ]
     },
     "execution_count": 2,
     "metadata": {},
     "output_type": "execute_result"
    }
   ],
   "source": [
    "cards_csv = pd.read_csv(\"/kaggle/input/cards-image-datasetclassification/cards.csv\")\n",
    "cards_csv.head()"
   ]
  },
  {
   "cell_type": "code",
   "execution_count": 3,
   "id": "98fa9d1d",
   "metadata": {
    "execution": {
     "iopub.execute_input": "2023-11-12T16:47:55.057755Z",
     "iopub.status.busy": "2023-11-12T16:47:55.057499Z",
     "iopub.status.idle": "2023-11-12T16:47:55.061830Z",
     "shell.execute_reply": "2023-11-12T16:47:55.060989Z"
    },
    "papermill": {
     "duration": 0.012453,
     "end_time": "2023-11-12T16:47:55.063859",
     "exception": false,
     "start_time": "2023-11-12T16:47:55.051406",
     "status": "completed"
    },
    "tags": []
   },
   "outputs": [],
   "source": [
    "# Transformações de pré-processamento se necessário.\n",
    "transform = transforms.Compose([\n",
    "    transforms.Grayscale(num_output_channels=1),\n",
    "    transforms.Resize((128, 128)),\n",
    "    transforms.ToTensor(),\n",
    "])"
   ]
  },
  {
   "cell_type": "code",
   "execution_count": 4,
   "id": "20e97a71",
   "metadata": {
    "execution": {
     "iopub.execute_input": "2023-11-12T16:47:55.074448Z",
     "iopub.status.busy": "2023-11-12T16:47:55.074201Z",
     "iopub.status.idle": "2023-11-12T16:47:56.406424Z",
     "shell.execute_reply": "2023-11-12T16:47:56.405570Z"
    },
    "papermill": {
     "duration": 1.340063,
     "end_time": "2023-11-12T16:47:56.408691",
     "exception": false,
     "start_time": "2023-11-12T16:47:55.068628",
     "status": "completed"
    },
    "tags": []
   },
   "outputs": [],
   "source": [
    "# Conjuntos de dados para treinamento e teste:\n",
    "# Transformar rgb in greyscale !!!!!!!\n",
    "train_dataset = datasets.ImageFolder('/kaggle/input/cards-image-datasetclassification/train', transform=transform)\n",
    "test_dataset = datasets.ImageFolder('/kaggle/input/cards-image-datasetclassification/test', transform=transform)"
   ]
  },
  {
   "cell_type": "code",
   "execution_count": 5,
   "id": "7a2b567c",
   "metadata": {
    "execution": {
     "iopub.execute_input": "2023-11-12T16:47:56.420072Z",
     "iopub.status.busy": "2023-11-12T16:47:56.419743Z",
     "iopub.status.idle": "2023-11-12T16:47:56.692324Z",
     "shell.execute_reply": "2023-11-12T16:47:56.691288Z"
    },
    "papermill": {
     "duration": 0.280844,
     "end_time": "2023-11-12T16:47:56.694747",
     "exception": false,
     "start_time": "2023-11-12T16:47:56.413903",
     "status": "completed"
    },
    "tags": []
   },
   "outputs": [
    {
     "name": "stdout",
     "output_type": "stream",
     "text": [
      "Shape of X [N, C, H, W]: torch.Size([32, 1, 128, 128])\n",
      "Shape of y: torch.Size([32]) torch.int64\n"
     ]
    }
   ],
   "source": [
    "# Crie carregadores de dados para treinamento e teste:\n",
    "batch_size = 32\n",
    "train_loader = DataLoader(train_dataset, batch_size=batch_size, shuffle=True)\n",
    "test_loader = DataLoader(test_dataset, batch_size=batch_size, shuffle=False)\n",
    "\n",
    "\n",
    "for X, y in test_loader:\n",
    "    print(f\"Shape of X [N, C, H, W]: {X.shape}\")\n",
    "    print(f\"Shape of y: {y.shape} {y.dtype}\")\n",
    "    break"
   ]
  },
  {
   "cell_type": "code",
   "execution_count": 6,
   "id": "cbcb260a",
   "metadata": {
    "execution": {
     "iopub.execute_input": "2023-11-12T16:47:56.706523Z",
     "iopub.status.busy": "2023-11-12T16:47:56.705969Z",
     "iopub.status.idle": "2023-11-12T16:47:56.797882Z",
     "shell.execute_reply": "2023-11-12T16:47:56.796970Z"
    },
    "papermill": {
     "duration": 0.100251,
     "end_time": "2023-11-12T16:47:56.800195",
     "exception": false,
     "start_time": "2023-11-12T16:47:56.699944",
     "status": "completed"
    },
    "tags": []
   },
   "outputs": [
    {
     "name": "stdout",
     "output_type": "stream",
     "text": [
      "Using cuda device\n"
     ]
    }
   ],
   "source": [
    "# Get cpu, gpu or mps device for training.\n",
    "device = (\n",
    "    \"cuda\"\n",
    "    if torch.cuda.is_available()\n",
    "    else \"mps\"\n",
    "    if torch.backends.mps.is_available()\n",
    "    else \"cpu\"\n",
    ")\n",
    "print(f\"Using {device} device\")"
   ]
  },
  {
   "cell_type": "markdown",
   "id": "efde88d5",
   "metadata": {
    "papermill": {
     "duration": 0.004954,
     "end_time": "2023-11-12T16:47:56.810743",
     "exception": false,
     "start_time": "2023-11-12T16:47:56.805789",
     "status": "completed"
    },
    "tags": []
   },
   "source": [
    "# Definindo o modelo"
   ]
  },
  {
   "cell_type": "code",
   "execution_count": 7,
   "id": "5292d1a3",
   "metadata": {
    "execution": {
     "iopub.execute_input": "2023-11-12T16:47:56.821739Z",
     "iopub.status.busy": "2023-11-12T16:47:56.821470Z",
     "iopub.status.idle": "2023-11-12T16:47:59.588577Z",
     "shell.execute_reply": "2023-11-12T16:47:59.587473Z"
    },
    "papermill": {
     "duration": 2.774969,
     "end_time": "2023-11-12T16:47:59.590672",
     "exception": false,
     "start_time": "2023-11-12T16:47:56.815703",
     "status": "completed"
    },
    "tags": []
   },
   "outputs": [
    {
     "name": "stdout",
     "output_type": "stream",
     "text": [
      "NeuralNetwork(\n",
      "  (flatten): Flatten(start_dim=1, end_dim=-1)\n",
      "  (linear_relu_stack): Sequential(\n",
      "    (0): Linear(in_features=16384, out_features=512, bias=True)\n",
      "    (1): ReLU()\n",
      "    (2): Linear(in_features=512, out_features=256, bias=True)\n",
      "    (3): ReLU()\n",
      "    (4): Linear(in_features=256, out_features=128, bias=True)\n",
      "    (5): ReLU()\n",
      "    (6): Linear(in_features=128, out_features=53, bias=True)\n",
      "  )\n",
      ")\n"
     ]
    }
   ],
   "source": [
    "# Define model\n",
    "class NeuralNetwork(nn.Module):\n",
    "    def __init__(self):\n",
    "        super().__init__()\n",
    "        self.flatten = nn.Flatten()\n",
    "        self.linear_relu_stack = nn.Sequential(\n",
    "            nn.Linear(128*128, 512),  # Dúvida aqui (Valores passados!) !!!\n",
    "            nn.ReLU(),\n",
    "            nn.Linear(512, 256),\n",
    "            nn.ReLU(),\n",
    "            nn.Linear(256, 128),\n",
    "            nn.ReLU(),\n",
    "            nn.Linear(128, 53)\n",
    "        )\n",
    "\n",
    "    def forward(self, x):\n",
    "        x = self.flatten(x)\n",
    "        logits = self.linear_relu_stack(x)\n",
    "        return logits\n",
    "\n",
    "model = NeuralNetwork().to(device)\n",
    "print(model)"
   ]
  },
  {
   "cell_type": "markdown",
   "id": "57318dda",
   "metadata": {
    "papermill": {
     "duration": 0.005036,
     "end_time": "2023-11-12T16:47:59.601190",
     "exception": false,
     "start_time": "2023-11-12T16:47:59.596154",
     "status": "completed"
    },
    "tags": []
   },
   "source": [
    "# Otimizando os parâmetros do modelo"
   ]
  },
  {
   "cell_type": "code",
   "execution_count": 8,
   "id": "64630824",
   "metadata": {
    "execution": {
     "iopub.execute_input": "2023-11-12T16:47:59.613069Z",
     "iopub.status.busy": "2023-11-12T16:47:59.612724Z",
     "iopub.status.idle": "2023-11-12T16:47:59.617495Z",
     "shell.execute_reply": "2023-11-12T16:47:59.616596Z"
    },
    "papermill": {
     "duration": 0.013005,
     "end_time": "2023-11-12T16:47:59.619506",
     "exception": false,
     "start_time": "2023-11-12T16:47:59.606501",
     "status": "completed"
    },
    "tags": []
   },
   "outputs": [],
   "source": [
    "loss_fn = nn.CrossEntropyLoss()\n",
    "optimizer = torch.optim.SGD(model.parameters(), lr=1e-3, momentum=0.9)"
   ]
  },
  {
   "cell_type": "code",
   "execution_count": 9,
   "id": "62839c1b",
   "metadata": {
    "execution": {
     "iopub.execute_input": "2023-11-12T16:47:59.631584Z",
     "iopub.status.busy": "2023-11-12T16:47:59.631283Z",
     "iopub.status.idle": "2023-11-12T16:47:59.637955Z",
     "shell.execute_reply": "2023-11-12T16:47:59.637116Z"
    },
    "papermill": {
     "duration": 0.014992,
     "end_time": "2023-11-12T16:47:59.639906",
     "exception": false,
     "start_time": "2023-11-12T16:47:59.624914",
     "status": "completed"
    },
    "tags": []
   },
   "outputs": [],
   "source": [
    "def train(dataloader, model, loss_fn, optimizer):   # Dúvida nessa etapa !!!\n",
    "    size = len(dataloader.dataset)\n",
    "    model.train()\n",
    "    for batch, (X, y) in enumerate(dataloader):\n",
    "        X, y = X.to(device), y.to(device)\n",
    "\n",
    "        # Compute prediction error\n",
    "        pred = model(X)\n",
    "        loss = loss_fn(pred, y)\n",
    "\n",
    "        # Backpropagation\n",
    "        loss.backward()\n",
    "        optimizer.step()\n",
    "        optimizer.zero_grad()\n",
    "\n",
    "        if batch % 100 == 0:\n",
    "            loss, current = loss.item(), (batch + 1) * len(X)\n",
    "            print(f\"loss: {loss:>7f}  [{current:>5d}/{size:>5d}]\")"
   ]
  },
  {
   "cell_type": "code",
   "execution_count": 10,
   "id": "6eab01c5",
   "metadata": {
    "execution": {
     "iopub.execute_input": "2023-11-12T16:47:59.651432Z",
     "iopub.status.busy": "2023-11-12T16:47:59.651109Z",
     "iopub.status.idle": "2023-11-12T16:47:59.657879Z",
     "shell.execute_reply": "2023-11-12T16:47:59.657081Z"
    },
    "papermill": {
     "duration": 0.014564,
     "end_time": "2023-11-12T16:47:59.659820",
     "exception": false,
     "start_time": "2023-11-12T16:47:59.645256",
     "status": "completed"
    },
    "tags": []
   },
   "outputs": [],
   "source": [
    "def test(dataloader, model, loss_fn):   \n",
    "    size = len(dataloader.dataset)\n",
    "    num_batches = len(dataloader)\n",
    "    model.eval()\n",
    "    test_loss, correct = 0, 0\n",
    "    with torch.no_grad():\n",
    "        for X, y in dataloader:\n",
    "            X, y = X.to(device), y.to(device)\n",
    "            pred = model(X)\n",
    "            test_loss += loss_fn(pred, y).item()\n",
    "            correct += (pred.argmax(1) == y).type(torch.float).sum().item()\n",
    "    test_loss /= num_batches\n",
    "    correct /= size\n",
    "    print(f\"Test Error: \\n Accuracy: {(100*correct):>0.1f}%, Avg loss: {test_loss:>8f} \\n\")"
   ]
  },
  {
   "cell_type": "code",
   "execution_count": 11,
   "id": "358faf33",
   "metadata": {
    "execution": {
     "iopub.execute_input": "2023-11-12T16:47:59.671491Z",
     "iopub.status.busy": "2023-11-12T16:47:59.671205Z",
     "iopub.status.idle": "2023-11-12T16:49:33.165607Z",
     "shell.execute_reply": "2023-11-12T16:49:33.164609Z"
    },
    "papermill": {
     "duration": 93.502572,
     "end_time": "2023-11-12T16:49:33.167776",
     "exception": false,
     "start_time": "2023-11-12T16:47:59.665204",
     "status": "completed"
    },
    "tags": []
   },
   "outputs": [
    {
     "name": "stdout",
     "output_type": "stream",
     "text": [
      "Epoch 1\n",
      "------------------------------>\n",
      "loss: 3.973797  [   32/ 7624]\n",
      "loss: 3.974037  [ 3232/ 7624]\n",
      "loss: 3.943567  [ 6432/ 7624]\n",
      "Test Error: \n",
      " Accuracy: 3.8%, Avg loss: 3.941181 \n",
      "\n",
      "Epoch 2\n",
      "------------------------------>\n",
      "loss: 3.943469  [   32/ 7624]\n",
      "loss: 3.890473  [ 3232/ 7624]\n",
      "loss: 3.809805  [ 6432/ 7624]\n",
      "Test Error: \n",
      " Accuracy: 6.4%, Avg loss: 3.860303 \n",
      "\n",
      "Epoch 3\n",
      "------------------------------>\n",
      "loss: 3.849398  [   32/ 7624]\n",
      "loss: 3.712104  [ 3232/ 7624]\n",
      "loss: 3.642968  [ 6432/ 7624]\n",
      "Test Error: \n",
      " Accuracy: 8.3%, Avg loss: 3.594783 \n",
      "\n",
      "Epoch 4\n",
      "------------------------------>\n",
      "loss: 3.526904  [   32/ 7624]\n",
      "loss: 3.494190  [ 3232/ 7624]\n",
      "loss: 3.204298  [ 6432/ 7624]\n",
      "Test Error: \n",
      " Accuracy: 10.6%, Avg loss: 3.357453 \n",
      "\n",
      "Epoch 5\n",
      "------------------------------>\n",
      "loss: 3.350306  [   32/ 7624]\n",
      "loss: 3.613317  [ 3232/ 7624]\n",
      "loss: 3.097074  [ 6432/ 7624]\n",
      "Test Error: \n",
      " Accuracy: 14.0%, Avg loss: 3.274987 \n",
      "\n",
      "Done!\n"
     ]
    }
   ],
   "source": [
    "epochs = 5\n",
    "\n",
    "for t in range(epochs):\n",
    "    print(f\"Epoch {t+1}\\n------------------------------>\")\n",
    "    train(train_loader, model, loss_fn, optimizer)\n",
    "    test(test_loader, model, loss_fn)\n",
    "print(\"Done!\")"
   ]
  },
  {
   "cell_type": "code",
   "execution_count": 12,
   "id": "7eb92d3a",
   "metadata": {
    "execution": {
     "iopub.execute_input": "2023-11-12T16:49:33.181938Z",
     "iopub.status.busy": "2023-11-12T16:49:33.181646Z",
     "iopub.status.idle": "2023-11-12T16:49:33.254925Z",
     "shell.execute_reply": "2023-11-12T16:49:33.253934Z"
    },
    "papermill": {
     "duration": 0.08253,
     "end_time": "2023-11-12T16:49:33.256870",
     "exception": false,
     "start_time": "2023-11-12T16:49:33.174340",
     "status": "completed"
    },
    "tags": []
   },
   "outputs": [
    {
     "name": "stdout",
     "output_type": "stream",
     "text": [
      "Saved PyTorch Model State to model.pth\n"
     ]
    }
   ],
   "source": [
    "torch.save(model.state_dict(), \"model.pth\")\n",
    "print(\"Saved PyTorch Model State to model.pth\")"
   ]
  },
  {
   "cell_type": "markdown",
   "id": "71289671",
   "metadata": {
    "papermill": {
     "duration": 0.008901,
     "end_time": "2023-11-12T16:49:33.272762",
     "exception": false,
     "start_time": "2023-11-12T16:49:33.263861",
     "status": "completed"
    },
    "tags": []
   },
   "source": [
    "# Loading Model"
   ]
  },
  {
   "cell_type": "code",
   "execution_count": 13,
   "id": "32825b00",
   "metadata": {
    "execution": {
     "iopub.execute_input": "2023-11-12T16:49:33.289635Z",
     "iopub.status.busy": "2023-11-12T16:49:33.289228Z",
     "iopub.status.idle": "2023-11-12T16:49:33.426774Z",
     "shell.execute_reply": "2023-11-12T16:49:33.425812Z"
    },
    "papermill": {
     "duration": 0.147773,
     "end_time": "2023-11-12T16:49:33.428853",
     "exception": false,
     "start_time": "2023-11-12T16:49:33.281080",
     "status": "completed"
    },
    "tags": []
   },
   "outputs": [
    {
     "data": {
      "text/plain": [
       "<All keys matched successfully>"
      ]
     },
     "execution_count": 13,
     "metadata": {},
     "output_type": "execute_result"
    }
   ],
   "source": [
    "model = NeuralNetwork().to(device)\n",
    "model.load_state_dict(torch.load(\"model.pth\"))"
   ]
  },
  {
   "cell_type": "code",
   "execution_count": 14,
   "id": "2884b493",
   "metadata": {
    "execution": {
     "iopub.execute_input": "2023-11-12T16:49:33.443953Z",
     "iopub.status.busy": "2023-11-12T16:49:33.443659Z",
     "iopub.status.idle": "2023-11-12T16:49:33.459949Z",
     "shell.execute_reply": "2023-11-12T16:49:33.458938Z"
    },
    "papermill": {
     "duration": 0.026178,
     "end_time": "2023-11-12T16:49:33.461941",
     "exception": false,
     "start_time": "2023-11-12T16:49:33.435763",
     "status": "completed"
    },
    "tags": []
   },
   "outputs": [
    {
     "name": "stdout",
     "output_type": "stream",
     "text": [
      "Predicted: \"jack of spades\", Actual: \"ace of clubs\"\n"
     ]
    }
   ],
   "source": [
    "classes = cards_csv['labels'].unique()\n",
    "\n",
    "model.eval()\n",
    "x, y = test_dataset[0]\n",
    "with torch.no_grad():\n",
    "    x = x.to(device)\n",
    "    pred = model(x)\n",
    "    predicted, actual = classes[pred[0].argmax(0)], classes[y]\n",
    "    print(f'Predicted: \"{predicted}\", Actual: \"{actual}\"')"
   ]
  }
 ],
 "metadata": {
  "kernelspec": {
   "display_name": "Python 3",
   "language": "python",
   "name": "python3"
  },
  "language_info": {
   "codemirror_mode": {
    "name": "ipython",
    "version": 3
   },
   "file_extension": ".py",
   "mimetype": "text/x-python",
   "name": "python",
   "nbconvert_exporter": "python",
   "pygments_lexer": "ipython3",
   "version": "3.10.12"
  },
  "papermill": {
   "default_parameters": {},
   "duration": 109.527202,
   "end_time": "2023-11-12T16:49:35.659988",
   "environment_variables": {},
   "exception": null,
   "input_path": "__notebook__.ipynb",
   "output_path": "__notebook__.ipynb",
   "parameters": {},
   "start_time": "2023-11-12T16:47:46.132786",
   "version": "2.4.0"
  }
 },
 "nbformat": 4,
 "nbformat_minor": 5
}
